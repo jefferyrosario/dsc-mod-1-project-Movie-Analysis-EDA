{
 "cells": [
  {
   "cell_type": "markdown",
   "metadata": {},
   "source": [
    "## Final Project Submission\n",
    "\n",
    "Please fill out:\n",
    "* Student name: \n",
    "* Student pace: self paced / part time / full time\n",
    "* Scheduled project review date/time: \n",
    "* Instructor name: \n",
    "* Blog post URL:\n"
   ]
  },
  {
   "cell_type": "markdown",
   "metadata": {},
   "source": [
    "Jeffery Rosario\n",
    "Student pace : part time"
   ]
  },
  {
   "cell_type": "code",
   "execution_count": 297,
   "metadata": {},
   "outputs": [],
   "source": [
    "import pandas as pd\n",
    "import matplotlib.pyplot as plt\n",
    "import numpy as np\n",
    "from zipfile import ZipFile\n",
    "import requests\n",
    "import json\n",
    "import re\n",
    "import matplotlib as plt\n",
    "import seaborn\n",
    "%matplotlib inline"
   ]
  },
  {
   "cell_type": "markdown",
   "metadata": {},
   "source": [
    "Let's first begin to do the exploratory data analysis and ose some questions. \n",
    "\n",
    "Microsoft sees all the big companies creating original video content, and they want to get in on the fun. They have decided to create a new movie studio, but the problem is they don’t know anything about creating movies. They have hired you to help them better understand the movie industry. Your team is charged with doing data analysis and creating a presentation that explores what type of films are currently doing the best at the box office. You must then translate those findings into actionable insights that the CEO can use when deciding what type of films they should be creating."
   ]
  },
  {
   "cell_type": "markdown",
   "metadata": {},
   "source": [
    "Let's pose some questions for data analysis:\n",
    "\n",
    "1. What type/genres of films are making the most money? \n",
    "2. How much profit? Let's look at gross and profit margin.\n",
    "3. Does the time period the movie is released important to the amount of money you can make?\n",
    " "
   ]
  },
  {
   "cell_type": "markdown",
   "metadata": {},
   "source": [
    "Import the files, define your functions as well."
   ]
  },
  {
   "cell_type": "code",
   "execution_count": 3,
   "metadata": {},
   "outputs": [],
   "source": [
    "\n",
    "file_budgets = './zippedData/tn.movie_budgets.csv.gz' \n",
    "file_movies = './zippedData/tmdb.mOvies.csv.gz'\n",
    "\n",
    "def read_df_file(filename): # read the file into a pandas DataFrame\n",
    "    df = pd.read_csv(filename, compression = 'gzip', error_bad_lines = False, na_values = '.')\n",
    "    return(df)\n",
    "\n",
    "\n",
    "def get_keys(path):\n",
    "    with open(path) as f:\n",
    "        return json.load(f)\n",
    "    \n",
    "def convert_genre_ids(genre_ids): # generate a dictionary of genres from the genre_ids\n",
    "    genre_ids_dict = {\n",
    "      \"28\": \"Action\",\n",
    "      \"12\": \"Adventure\",\n",
    "      \"16\": \"Animation\",\n",
    "      \"35\": \"Comedy\",\n",
    "      \"80\": \"Crime\",\n",
    "      \"99\": \"Documentary\",\n",
    "      \"18\": \"Drama\",\n",
    "      \"10751\": \"Family\",\n",
    "      \"14\" : \"Fantasy\",\n",
    "      \"36\": \"History\",\n",
    "      \"27\": \"Horror\",\n",
    "      \"10402\": \"Music\",\n",
    "      \"9648\": \"Mystery\",\n",
    "      \"10749\": \"Romance\",\n",
    "      \"878\": \"Science Fiction\",\n",
    "      \"10770\": \"TV Movie\",\n",
    "      \"53\": \"Thriller\",\n",
    "      \"10752\": \"War\",\n",
    "      \"37\": \"Western\"\n",
    "    }\n",
    "    genre_ids = conv_str_to_lst(genre_ids)\n",
    "    genre_list = []\n",
    "    for genre_id in genre_ids:\n",
    "        genre_list.append(genre_ids_dict[genre_id])\n",
    "        #print(genre_list.append(genre_ids_dict[genre_id]))\n",
    "    genre_list = tuple(genre_list)\n",
    "    return genre_list\n",
    "    \n",
    "def conv_str_to_lst(str):\n",
    "    match = re.compile('\\d+')\n",
    "    match = match.findall(str)\n",
    "    match.sort()\n",
    "    return match\n",
    "\n",
    "def conv_object_to_int(s):\n",
    "    match = re.compile('\\d+')\n",
    "    match = match.findall(s)\n",
    "    integer = [str(m) for m in match]\n",
    "    res = int(\"\".join(integer))\n",
    "    return res\n",
    "  \n",
    "\n",
    "keys = get_keys('/Users/Jeffery Rosario/.secret/moviedb_api.json')\n"
   ]
  },
  {
   "cell_type": "code",
   "execution_count": 4,
   "metadata": {},
   "outputs": [],
   "source": [
    "budgets_df = read_df_file(file_budgets)\n",
    "movies_df = read_df_file(file_movies)\n",
    "\n",
    "movies_df.set_index('title', inplace = True)     #set the index to title\n",
    "movies_df.drop(['Unnamed: 0', 'original_title', 'id'], axis=1, inplace = True)    #drop irrelevant columns\n",
    "movies_df = movies_df[movies_df.genre_ids != '[]']    #remove rows with genre unknown\n",
    "\n",
    "budgets_df.drop(['id'], axis = 1, inplace = True)     #drop columns that are irrelevant\n",
    "budgets_df.set_index(['movie'], inplace = True)         #set the index\n",
    "\n",
    "movies_df['genre'] = movies_df['genre_ids'].map(convert_genre_ids)"
   ]
  },
  {
   "cell_type": "code",
   "execution_count": 12,
   "metadata": {
    "scrolled": true
   },
   "outputs": [
    {
     "data": {
      "text/html": [
       "<div>\n",
       "<style scoped>\n",
       "    .dataframe tbody tr th:only-of-type {\n",
       "        vertical-align: middle;\n",
       "    }\n",
       "\n",
       "    .dataframe tbody tr th {\n",
       "        vertical-align: top;\n",
       "    }\n",
       "\n",
       "    .dataframe thead th {\n",
       "        text-align: right;\n",
       "    }\n",
       "</style>\n",
       "<table border=\"1\" class=\"dataframe\">\n",
       "  <thead>\n",
       "    <tr style=\"text-align: right;\">\n",
       "      <th></th>\n",
       "      <th>genre_ids</th>\n",
       "      <th>original_language</th>\n",
       "      <th>popularity</th>\n",
       "      <th>release_date</th>\n",
       "      <th>vote_average</th>\n",
       "      <th>vote_count</th>\n",
       "      <th>genre</th>\n",
       "    </tr>\n",
       "    <tr>\n",
       "      <th>title</th>\n",
       "      <th></th>\n",
       "      <th></th>\n",
       "      <th></th>\n",
       "      <th></th>\n",
       "      <th></th>\n",
       "      <th></th>\n",
       "      <th></th>\n",
       "    </tr>\n",
       "  </thead>\n",
       "  <tbody>\n",
       "    <tr>\n",
       "      <td>Harry Potter and the Deathly Hallows: Part 1</td>\n",
       "      <td>[12, 14, 10751]</td>\n",
       "      <td>en</td>\n",
       "      <td>33.533</td>\n",
       "      <td>2010-11-19</td>\n",
       "      <td>7.7</td>\n",
       "      <td>10788</td>\n",
       "      <td>(Family, Adventure, Fantasy)</td>\n",
       "    </tr>\n",
       "    <tr>\n",
       "      <td>How to Train Your Dragon</td>\n",
       "      <td>[14, 12, 16, 10751]</td>\n",
       "      <td>en</td>\n",
       "      <td>28.734</td>\n",
       "      <td>2010-03-26</td>\n",
       "      <td>7.7</td>\n",
       "      <td>7610</td>\n",
       "      <td>(Family, Adventure, Fantasy, Animation)</td>\n",
       "    </tr>\n",
       "    <tr>\n",
       "      <td>Iron Man 2</td>\n",
       "      <td>[12, 28, 878]</td>\n",
       "      <td>en</td>\n",
       "      <td>28.515</td>\n",
       "      <td>2010-05-07</td>\n",
       "      <td>6.8</td>\n",
       "      <td>12368</td>\n",
       "      <td>(Adventure, Action, Science Fiction)</td>\n",
       "    </tr>\n",
       "    <tr>\n",
       "      <td>Toy Story</td>\n",
       "      <td>[16, 35, 10751]</td>\n",
       "      <td>en</td>\n",
       "      <td>28.005</td>\n",
       "      <td>1995-11-22</td>\n",
       "      <td>7.9</td>\n",
       "      <td>10174</td>\n",
       "      <td>(Family, Animation, Comedy)</td>\n",
       "    </tr>\n",
       "    <tr>\n",
       "      <td>Inception</td>\n",
       "      <td>[28, 878, 12]</td>\n",
       "      <td>en</td>\n",
       "      <td>27.920</td>\n",
       "      <td>2010-07-16</td>\n",
       "      <td>8.3</td>\n",
       "      <td>22186</td>\n",
       "      <td>(Adventure, Action, Science Fiction)</td>\n",
       "    </tr>\n",
       "    <tr>\n",
       "      <td>...</td>\n",
       "      <td>...</td>\n",
       "      <td>...</td>\n",
       "      <td>...</td>\n",
       "      <td>...</td>\n",
       "      <td>...</td>\n",
       "      <td>...</td>\n",
       "      <td>...</td>\n",
       "    </tr>\n",
       "    <tr>\n",
       "      <td>Laboratory Conditions</td>\n",
       "      <td>[27, 18]</td>\n",
       "      <td>en</td>\n",
       "      <td>0.600</td>\n",
       "      <td>2018-10-13</td>\n",
       "      <td>0.0</td>\n",
       "      <td>1</td>\n",
       "      <td>(Drama, Horror)</td>\n",
       "    </tr>\n",
       "    <tr>\n",
       "      <td>_EXHIBIT_84xxx_</td>\n",
       "      <td>[18, 53]</td>\n",
       "      <td>en</td>\n",
       "      <td>0.600</td>\n",
       "      <td>2018-05-01</td>\n",
       "      <td>0.0</td>\n",
       "      <td>1</td>\n",
       "      <td>(Drama, Thriller)</td>\n",
       "    </tr>\n",
       "    <tr>\n",
       "      <td>The Last One</td>\n",
       "      <td>[14, 28, 12]</td>\n",
       "      <td>en</td>\n",
       "      <td>0.600</td>\n",
       "      <td>2018-10-01</td>\n",
       "      <td>0.0</td>\n",
       "      <td>1</td>\n",
       "      <td>(Adventure, Fantasy, Action)</td>\n",
       "    </tr>\n",
       "    <tr>\n",
       "      <td>Trailer Made</td>\n",
       "      <td>[10751, 12, 28]</td>\n",
       "      <td>en</td>\n",
       "      <td>0.600</td>\n",
       "      <td>2018-06-22</td>\n",
       "      <td>0.0</td>\n",
       "      <td>1</td>\n",
       "      <td>(Family, Adventure, Action)</td>\n",
       "    </tr>\n",
       "    <tr>\n",
       "      <td>The Church</td>\n",
       "      <td>[53, 27]</td>\n",
       "      <td>en</td>\n",
       "      <td>0.600</td>\n",
       "      <td>2018-10-05</td>\n",
       "      <td>0.0</td>\n",
       "      <td>1</td>\n",
       "      <td>(Horror, Thriller)</td>\n",
       "    </tr>\n",
       "  </tbody>\n",
       "</table>\n",
       "<p>24038 rows × 7 columns</p>\n",
       "</div>"
      ],
      "text/plain": [
       "                                                        genre_ids  \\\n",
       "title                                                               \n",
       "Harry Potter and the Deathly Hallows: Part 1      [12, 14, 10751]   \n",
       "How to Train Your Dragon                      [14, 12, 16, 10751]   \n",
       "Iron Man 2                                          [12, 28, 878]   \n",
       "Toy Story                                         [16, 35, 10751]   \n",
       "Inception                                           [28, 878, 12]   \n",
       "...                                                           ...   \n",
       "Laboratory Conditions                                    [27, 18]   \n",
       "_EXHIBIT_84xxx_                                          [18, 53]   \n",
       "The Last One                                         [14, 28, 12]   \n",
       "Trailer Made                                      [10751, 12, 28]   \n",
       "The Church                                               [53, 27]   \n",
       "\n",
       "                                             original_language  popularity  \\\n",
       "title                                                                        \n",
       "Harry Potter and the Deathly Hallows: Part 1                en      33.533   \n",
       "How to Train Your Dragon                                    en      28.734   \n",
       "Iron Man 2                                                  en      28.515   \n",
       "Toy Story                                                   en      28.005   \n",
       "Inception                                                   en      27.920   \n",
       "...                                                        ...         ...   \n",
       "Laboratory Conditions                                       en       0.600   \n",
       "_EXHIBIT_84xxx_                                             en       0.600   \n",
       "The Last One                                                en       0.600   \n",
       "Trailer Made                                                en       0.600   \n",
       "The Church                                                  en       0.600   \n",
       "\n",
       "                                             release_date  vote_average  \\\n",
       "title                                                                     \n",
       "Harry Potter and the Deathly Hallows: Part 1   2010-11-19           7.7   \n",
       "How to Train Your Dragon                       2010-03-26           7.7   \n",
       "Iron Man 2                                     2010-05-07           6.8   \n",
       "Toy Story                                      1995-11-22           7.9   \n",
       "Inception                                      2010-07-16           8.3   \n",
       "...                                                   ...           ...   \n",
       "Laboratory Conditions                          2018-10-13           0.0   \n",
       "_EXHIBIT_84xxx_                                2018-05-01           0.0   \n",
       "The Last One                                   2018-10-01           0.0   \n",
       "Trailer Made                                   2018-06-22           0.0   \n",
       "The Church                                     2018-10-05           0.0   \n",
       "\n",
       "                                              vote_count  \\\n",
       "title                                                      \n",
       "Harry Potter and the Deathly Hallows: Part 1       10788   \n",
       "How to Train Your Dragon                            7610   \n",
       "Iron Man 2                                         12368   \n",
       "Toy Story                                          10174   \n",
       "Inception                                          22186   \n",
       "...                                                  ...   \n",
       "Laboratory Conditions                                  1   \n",
       "_EXHIBIT_84xxx_                                        1   \n",
       "The Last One                                           1   \n",
       "Trailer Made                                           1   \n",
       "The Church                                             1   \n",
       "\n",
       "                                                                                genre  \n",
       "title                                                                                  \n",
       "Harry Potter and the Deathly Hallows: Part 1             (Family, Adventure, Fantasy)  \n",
       "How to Train Your Dragon                      (Family, Adventure, Fantasy, Animation)  \n",
       "Iron Man 2                                       (Adventure, Action, Science Fiction)  \n",
       "Toy Story                                                 (Family, Animation, Comedy)  \n",
       "Inception                                        (Adventure, Action, Science Fiction)  \n",
       "...                                                                               ...  \n",
       "Laboratory Conditions                                                 (Drama, Horror)  \n",
       "_EXHIBIT_84xxx_                                                     (Drama, Thriller)  \n",
       "The Last One                                             (Adventure, Fantasy, Action)  \n",
       "Trailer Made                                              (Family, Adventure, Action)  \n",
       "The Church                                                         (Horror, Thriller)  \n",
       "\n",
       "[24038 rows x 7 columns]"
      ]
     },
     "execution_count": 12,
     "metadata": {},
     "output_type": "execute_result"
    }
   ],
   "source": [
    "movies_df"
   ]
  },
  {
   "cell_type": "code",
   "execution_count": 138,
   "metadata": {},
   "outputs": [
    {
     "name": "stdout",
     "output_type": "stream",
     "text": [
      "{'api_key': '2f1b432805e7e5075235d26abc03404f'}\n"
     ]
    }
   ],
   "source": []
  },
  {
   "cell_type": "code",
   "execution_count": 10,
   "metadata": {},
   "outputs": [
    {
     "data": {
      "text/html": [
       "<div>\n",
       "<style scoped>\n",
       "    .dataframe tbody tr th:only-of-type {\n",
       "        vertical-align: middle;\n",
       "    }\n",
       "\n",
       "    .dataframe tbody tr th {\n",
       "        vertical-align: top;\n",
       "    }\n",
       "\n",
       "    .dataframe thead th {\n",
       "        text-align: right;\n",
       "    }\n",
       "</style>\n",
       "<table border=\"1\" class=\"dataframe\">\n",
       "  <thead>\n",
       "    <tr style=\"text-align: right;\">\n",
       "      <th></th>\n",
       "      <th>genre_ids</th>\n",
       "      <th>original_language</th>\n",
       "      <th>popularity</th>\n",
       "      <th>release_date</th>\n",
       "      <th>vote_average</th>\n",
       "      <th>vote_count</th>\n",
       "      <th>genre</th>\n",
       "    </tr>\n",
       "    <tr>\n",
       "      <th>title</th>\n",
       "      <th></th>\n",
       "      <th></th>\n",
       "      <th></th>\n",
       "      <th></th>\n",
       "      <th></th>\n",
       "      <th></th>\n",
       "      <th></th>\n",
       "    </tr>\n",
       "  </thead>\n",
       "  <tbody>\n",
       "    <tr>\n",
       "      <td>Harry Potter and the Deathly Hallows: Part 1</td>\n",
       "      <td>[12, 14, 10751]</td>\n",
       "      <td>en</td>\n",
       "      <td>33.533</td>\n",
       "      <td>2010-11-19</td>\n",
       "      <td>7.7</td>\n",
       "      <td>10788</td>\n",
       "      <td>(Adventure, Fantasy, Family)</td>\n",
       "    </tr>\n",
       "    <tr>\n",
       "      <td>How to Train Your Dragon</td>\n",
       "      <td>[14, 12, 16, 10751]</td>\n",
       "      <td>en</td>\n",
       "      <td>28.734</td>\n",
       "      <td>2010-03-26</td>\n",
       "      <td>7.7</td>\n",
       "      <td>7610</td>\n",
       "      <td>(Fantasy, Adventure, Animation, Family)</td>\n",
       "    </tr>\n",
       "    <tr>\n",
       "      <td>Iron Man 2</td>\n",
       "      <td>[12, 28, 878]</td>\n",
       "      <td>en</td>\n",
       "      <td>28.515</td>\n",
       "      <td>2010-05-07</td>\n",
       "      <td>6.8</td>\n",
       "      <td>12368</td>\n",
       "      <td>(Adventure, Action, Science Fiction)</td>\n",
       "    </tr>\n",
       "    <tr>\n",
       "      <td>Toy Story</td>\n",
       "      <td>[16, 35, 10751]</td>\n",
       "      <td>en</td>\n",
       "      <td>28.005</td>\n",
       "      <td>1995-11-22</td>\n",
       "      <td>7.9</td>\n",
       "      <td>10174</td>\n",
       "      <td>(Animation, Comedy, Family)</td>\n",
       "    </tr>\n",
       "    <tr>\n",
       "      <td>Inception</td>\n",
       "      <td>[28, 878, 12]</td>\n",
       "      <td>en</td>\n",
       "      <td>27.920</td>\n",
       "      <td>2010-07-16</td>\n",
       "      <td>8.3</td>\n",
       "      <td>22186</td>\n",
       "      <td>(Action, Science Fiction, Adventure)</td>\n",
       "    </tr>\n",
       "    <tr>\n",
       "      <td>...</td>\n",
       "      <td>...</td>\n",
       "      <td>...</td>\n",
       "      <td>...</td>\n",
       "      <td>...</td>\n",
       "      <td>...</td>\n",
       "      <td>...</td>\n",
       "      <td>...</td>\n",
       "    </tr>\n",
       "    <tr>\n",
       "      <td>Laboratory Conditions</td>\n",
       "      <td>[27, 18]</td>\n",
       "      <td>en</td>\n",
       "      <td>0.600</td>\n",
       "      <td>2018-10-13</td>\n",
       "      <td>0.0</td>\n",
       "      <td>1</td>\n",
       "      <td>(Horror, Drama)</td>\n",
       "    </tr>\n",
       "    <tr>\n",
       "      <td>_EXHIBIT_84xxx_</td>\n",
       "      <td>[18, 53]</td>\n",
       "      <td>en</td>\n",
       "      <td>0.600</td>\n",
       "      <td>2018-05-01</td>\n",
       "      <td>0.0</td>\n",
       "      <td>1</td>\n",
       "      <td>(Drama, Thriller)</td>\n",
       "    </tr>\n",
       "    <tr>\n",
       "      <td>The Last One</td>\n",
       "      <td>[14, 28, 12]</td>\n",
       "      <td>en</td>\n",
       "      <td>0.600</td>\n",
       "      <td>2018-10-01</td>\n",
       "      <td>0.0</td>\n",
       "      <td>1</td>\n",
       "      <td>(Fantasy, Action, Adventure)</td>\n",
       "    </tr>\n",
       "    <tr>\n",
       "      <td>Trailer Made</td>\n",
       "      <td>[10751, 12, 28]</td>\n",
       "      <td>en</td>\n",
       "      <td>0.600</td>\n",
       "      <td>2018-06-22</td>\n",
       "      <td>0.0</td>\n",
       "      <td>1</td>\n",
       "      <td>(Family, Adventure, Action)</td>\n",
       "    </tr>\n",
       "    <tr>\n",
       "      <td>The Church</td>\n",
       "      <td>[53, 27]</td>\n",
       "      <td>en</td>\n",
       "      <td>0.600</td>\n",
       "      <td>2018-10-05</td>\n",
       "      <td>0.0</td>\n",
       "      <td>1</td>\n",
       "      <td>(Thriller, Horror)</td>\n",
       "    </tr>\n",
       "  </tbody>\n",
       "</table>\n",
       "<p>24038 rows × 7 columns</p>\n",
       "</div>"
      ],
      "text/plain": [
       "                                                        genre_ids  \\\n",
       "title                                                               \n",
       "Harry Potter and the Deathly Hallows: Part 1      [12, 14, 10751]   \n",
       "How to Train Your Dragon                      [14, 12, 16, 10751]   \n",
       "Iron Man 2                                          [12, 28, 878]   \n",
       "Toy Story                                         [16, 35, 10751]   \n",
       "Inception                                           [28, 878, 12]   \n",
       "...                                                           ...   \n",
       "Laboratory Conditions                                    [27, 18]   \n",
       "_EXHIBIT_84xxx_                                          [18, 53]   \n",
       "The Last One                                         [14, 28, 12]   \n",
       "Trailer Made                                      [10751, 12, 28]   \n",
       "The Church                                               [53, 27]   \n",
       "\n",
       "                                             original_language  popularity  \\\n",
       "title                                                                        \n",
       "Harry Potter and the Deathly Hallows: Part 1                en      33.533   \n",
       "How to Train Your Dragon                                    en      28.734   \n",
       "Iron Man 2                                                  en      28.515   \n",
       "Toy Story                                                   en      28.005   \n",
       "Inception                                                   en      27.920   \n",
       "...                                                        ...         ...   \n",
       "Laboratory Conditions                                       en       0.600   \n",
       "_EXHIBIT_84xxx_                                             en       0.600   \n",
       "The Last One                                                en       0.600   \n",
       "Trailer Made                                                en       0.600   \n",
       "The Church                                                  en       0.600   \n",
       "\n",
       "                                             release_date  vote_average  \\\n",
       "title                                                                     \n",
       "Harry Potter and the Deathly Hallows: Part 1   2010-11-19           7.7   \n",
       "How to Train Your Dragon                       2010-03-26           7.7   \n",
       "Iron Man 2                                     2010-05-07           6.8   \n",
       "Toy Story                                      1995-11-22           7.9   \n",
       "Inception                                      2010-07-16           8.3   \n",
       "...                                                   ...           ...   \n",
       "Laboratory Conditions                          2018-10-13           0.0   \n",
       "_EXHIBIT_84xxx_                                2018-05-01           0.0   \n",
       "The Last One                                   2018-10-01           0.0   \n",
       "Trailer Made                                   2018-06-22           0.0   \n",
       "The Church                                     2018-10-05           0.0   \n",
       "\n",
       "                                              vote_count  \\\n",
       "title                                                      \n",
       "Harry Potter and the Deathly Hallows: Part 1       10788   \n",
       "How to Train Your Dragon                            7610   \n",
       "Iron Man 2                                         12368   \n",
       "Toy Story                                          10174   \n",
       "Inception                                          22186   \n",
       "...                                                  ...   \n",
       "Laboratory Conditions                                  1   \n",
       "_EXHIBIT_84xxx_                                        1   \n",
       "The Last One                                           1   \n",
       "Trailer Made                                           1   \n",
       "The Church                                             1   \n",
       "\n",
       "                                                                                genre  \n",
       "title                                                                                  \n",
       "Harry Potter and the Deathly Hallows: Part 1             (Adventure, Fantasy, Family)  \n",
       "How to Train Your Dragon                      (Fantasy, Adventure, Animation, Family)  \n",
       "Iron Man 2                                       (Adventure, Action, Science Fiction)  \n",
       "Toy Story                                                 (Animation, Comedy, Family)  \n",
       "Inception                                        (Action, Science Fiction, Adventure)  \n",
       "...                                                                               ...  \n",
       "Laboratory Conditions                                                 (Horror, Drama)  \n",
       "_EXHIBIT_84xxx_                                                     (Drama, Thriller)  \n",
       "The Last One                                             (Fantasy, Action, Adventure)  \n",
       "Trailer Made                                              (Family, Adventure, Action)  \n",
       "The Church                                                         (Thriller, Horror)  \n",
       "\n",
       "[24038 rows x 7 columns]"
      ]
     },
     "execution_count": 10,
     "metadata": {},
     "output_type": "execute_result"
    }
   ],
   "source": [
    "movies_df"
   ]
  },
  {
   "cell_type": "code",
   "execution_count": 13,
   "metadata": {},
   "outputs": [],
   "source": [
    "budgets_df.index.names = ['title']"
   ]
  },
  {
   "cell_type": "code",
   "execution_count": 14,
   "metadata": {},
   "outputs": [],
   "source": [
    "bm_df = budgets_df.join(movies_df, how = 'left', on = 'title', lsuffix = 'l_suffix', rsuffix = 'r_suffix' )"
   ]
  },
  {
   "cell_type": "code",
   "execution_count": 15,
   "metadata": {},
   "outputs": [],
   "source": [
    "bm_df = bm_df.dropna()"
   ]
  },
  {
   "cell_type": "code",
   "execution_count": 23,
   "metadata": {},
   "outputs": [],
   "source": [
    "bm_df['production_budget'] = bm_df['production_budget'].map(conv_object_to_int)\n",
    "bm_df['domestic_gross'] = bm_df['domestic_gross'].map(conv_object_to_int)\n",
    "bm_df['worldwide_gross'] = bm_df['worldwide_gross'].map(conv_object_to_int)\n",
    "bm_df['production_budget'] = bm_df['production_budget'].map(conv_object_to_int)"
   ]
  },
  {
   "cell_type": "code",
   "execution_count": 257,
   "metadata": {},
   "outputs": [
    {
     "data": {
      "text/plain": [
       "title\n",
       "Avatar                                         760507625\n",
       "Pirates of the Caribbean: On Stranger Tides    241063875\n",
       "Avengers: Age of Ultron                        459005868\n",
       "Avengers: Infinity War                         678815482\n",
       "Justice League                                 229024295\n",
       "                                                 ...    \n",
       "Exeter                                                 0\n",
       "Ten                                                    0\n",
       "Dry Spell                                              0\n",
       "All Superheroes Must Die                               0\n",
       "Newlyweds                                           4584\n",
       "Name: domestic_gross, Length: 2320, dtype: int64"
      ]
     },
     "execution_count": 257,
     "metadata": {},
     "output_type": "execute_result"
    }
   ],
   "source": [
    "bm_df.domestic_gross"
   ]
  },
  {
   "cell_type": "code",
   "execution_count": 18,
   "metadata": {},
   "outputs": [],
   "source": [
    " bm_to_pivot = bm_df.groupby(['genre'], sort = False).mean().sort_values('worldwide_gross').tail(10)"
   ]
  },
  {
   "cell_type": "code",
   "execution_count": 43,
   "metadata": {},
   "outputs": [
    {
     "data": {
      "text/plain": [
       "<matplotlib.axes._subplots.AxesSubplot at 0x25dfd8c3288>"
      ]
     },
     "execution_count": 43,
     "metadata": {},
     "output_type": "execute_result"
    },
    {
     "data": {
      "image/png": "[encoded data removed]",
      "text/plain": [
       "<Figure size 720x720 with 1 Axes>"
      ]
     },
     "metadata": {
      "needs_background": "light"
     },
     "output_type": "display_data"
    }
   ],
   "source": [
    "#bm_to_pivot.plot(figsize = (10,10), kind = 'barh')\n",
    "bm_df.groupby(['genre']).sum().sort_values(by = 'domestic_gross').tail(20).plot(kind = 'barh', figsize =(10,10))"
   ]
  },
  {
   "cell_type": "code",
   "execution_count": 232,
   "metadata": {},
   "outputs": [],
   "source": [
    "bm2_df = bm_df.groupby(['genre']).filter(lambda x: len(x) > 10) # only capture genres with 10+ movies"
   ]
  },
  {
   "cell_type": "code",
   "execution_count": 258,
   "metadata": {},
   "outputs": [
    {
     "data": {
      "text/plain": [
       "<matplotlib.axes._subplots.AxesSubplot at 0x25d8cb40688>"
      ]
     },
     "execution_count": 258,
     "metadata": {},
     "output_type": "execute_result"
    },
    {
     "data": {
      "image/png": "[encoded data removed]",
      "text/plain": [
       "<Figure size 720x720 with 1 Axes>"
      ]
     },
     "metadata": {
      "needs_background": "light"
     },
     "output_type": "display_data"
    }
   ],
   "source": [
    "bm2_df.groupby(['genre']).mean().sort_values(by = 'production_budget').tail(10).plot(kind = 'bar', figsize = (10,10))"
   ]
  },
  {
   "cell_type": "code",
   "execution_count": 228,
   "metadata": {},
   "outputs": [
    {
     "name": "stderr",
     "output_type": "stream",
     "text": [
      "C:\\Users\\Public\\Anaconda3\\lib\\site-packages\\ipykernel_launcher.py:1: SettingWithCopyWarning: \n",
      "A value is trying to be set on a copy of a slice from a DataFrame.\n",
      "Try using .loc[row_indexer,col_indexer] = value instead\n",
      "\n",
      "See the caveats in the documentation: http://pandas.pydata.org/pandas-docs/stable/user_guide/indexing.html#returning-a-view-versus-a-copy\n",
      "  \"\"\"Entry point for launching an IPython kernel.\n"
     ]
    }
   ],
   "source": [
    "bm2_df['profit_margin'] = (bm2_df['worldwide_gross'] - bm2_df['production_budget'])/bm2_df['worldwide_gross']"
   ]
  },
  {
   "cell_type": "code",
   "execution_count": 241,
   "metadata": {},
   "outputs": [
    {
     "name": "stderr",
     "output_type": "stream",
     "text": [
      "C:\\Users\\Public\\Anaconda3\\lib\\site-packages\\pandas\\core\\generic.py:6786: SettingWithCopyWarning: \n",
      "A value is trying to be set on a copy of a slice from a DataFrame\n",
      "\n",
      "See the caveats in the documentation: http://pandas.pydata.org/pandas-docs/stable/user_guide/indexing.html#returning-a-view-versus-a-copy\n",
      "  self._update_inplace(new_data)\n"
     ]
    }
   ],
   "source": [
    "bm2_df.worldwide_gross.replace(to_replace= 0, value = bm2_df['worldwide_gross'].mean(), inplace = True )"
   ]
  },
  {
   "cell_type": "code",
   "execution_count": 244,
   "metadata": {},
   "outputs": [
    {
     "name": "stderr",
     "output_type": "stream",
     "text": [
      "C:\\Users\\Public\\Anaconda3\\lib\\site-packages\\pandas\\core\\generic.py:6786: SettingWithCopyWarning: \n",
      "A value is trying to be set on a copy of a slice from a DataFrame\n",
      "\n",
      "See the caveats in the documentation: http://pandas.pydata.org/pandas-docs/stable/user_guide/indexing.html#returning-a-view-versus-a-copy\n",
      "  self._update_inplace(new_data)\n"
     ]
    }
   ],
   "source": [
    "bm2_df.domestic_gross.replace(to_replace = 0, value = bm2_df['domestic_gross'].mean(), inplace = True)"
   ]
  },
  {
   "cell_type": "code",
   "execution_count": 245,
   "metadata": {},
   "outputs": [],
   "source": [
    "df = bm2_df.groupby(['genre']).mean()"
   ]
  },
  {
   "cell_type": "code",
   "execution_count": 264,
   "metadata": {},
   "outputs": [
    {
     "ename": "KeyError",
     "evalue": "\"['production_budget/worldwide_gross' 'production_budget - worldwide_gross'] not found in axis\"",
     "output_type": "error",
     "traceback": [
      "\u001b[1;31m---------------------------------------------------------------------------\u001b[0m",
      "\u001b[1;31mKeyError\u001b[0m                                  Traceback (most recent call last)",
      "\u001b[1;32m<ipython-input-264-e1accdd03404>\u001b[0m in \u001b[0;36m<module>\u001b[1;34m\u001b[0m\n\u001b[1;32m----> 1\u001b[1;33m \u001b[0mbm2_df\u001b[0m\u001b[1;33m.\u001b[0m\u001b[0mdrop\u001b[0m\u001b[1;33m(\u001b[0m\u001b[1;33m[\u001b[0m\u001b[1;34m'production_budget/worldwide_gross'\u001b[0m\u001b[1;33m,\u001b[0m \u001b[1;34m'production_budget - worldwide_gross'\u001b[0m\u001b[1;33m]\u001b[0m\u001b[1;33m,\u001b[0m \u001b[0maxis\u001b[0m \u001b[1;33m=\u001b[0m \u001b[1;36m1\u001b[0m\u001b[1;33m,\u001b[0m \u001b[0minplace\u001b[0m \u001b[1;33m=\u001b[0m \u001b[1;32mTrue\u001b[0m\u001b[1;33m)\u001b[0m\u001b[1;33m\u001b[0m\u001b[1;33m\u001b[0m\u001b[0m\n\u001b[0m",
      "\u001b[1;32mC:\\Users\\Public\\Anaconda3\\lib\\site-packages\\pandas\\core\\frame.py\u001b[0m in \u001b[0;36mdrop\u001b[1;34m(self, labels, axis, index, columns, level, inplace, errors)\u001b[0m\n\u001b[0;32m   4100\u001b[0m             \u001b[0mlevel\u001b[0m\u001b[1;33m=\u001b[0m\u001b[0mlevel\u001b[0m\u001b[1;33m,\u001b[0m\u001b[1;33m\u001b[0m\u001b[1;33m\u001b[0m\u001b[0m\n\u001b[0;32m   4101\u001b[0m             \u001b[0minplace\u001b[0m\u001b[1;33m=\u001b[0m\u001b[0minplace\u001b[0m\u001b[1;33m,\u001b[0m\u001b[1;33m\u001b[0m\u001b[1;33m\u001b[0m\u001b[0m\n\u001b[1;32m-> 4102\u001b[1;33m             \u001b[0merrors\u001b[0m\u001b[1;33m=\u001b[0m\u001b[0merrors\u001b[0m\u001b[1;33m,\u001b[0m\u001b[1;33m\u001b[0m\u001b[1;33m\u001b[0m\u001b[0m\n\u001b[0m\u001b[0;32m   4103\u001b[0m         )\n\u001b[0;32m   4104\u001b[0m \u001b[1;33m\u001b[0m\u001b[0m\n",
      "\u001b[1;32mC:\\Users\\Public\\Anaconda3\\lib\\site-packages\\pandas\\core\\generic.py\u001b[0m in \u001b[0;36mdrop\u001b[1;34m(self, labels, axis, index, columns, level, inplace, errors)\u001b[0m\n\u001b[0;32m   3912\u001b[0m         \u001b[1;32mfor\u001b[0m \u001b[0maxis\u001b[0m\u001b[1;33m,\u001b[0m \u001b[0mlabels\u001b[0m \u001b[1;32min\u001b[0m \u001b[0maxes\u001b[0m\u001b[1;33m.\u001b[0m\u001b[0mitems\u001b[0m\u001b[1;33m(\u001b[0m\u001b[1;33m)\u001b[0m\u001b[1;33m:\u001b[0m\u001b[1;33m\u001b[0m\u001b[1;33m\u001b[0m\u001b[0m\n\u001b[0;32m   3913\u001b[0m             \u001b[1;32mif\u001b[0m \u001b[0mlabels\u001b[0m \u001b[1;32mis\u001b[0m \u001b[1;32mnot\u001b[0m \u001b[1;32mNone\u001b[0m\u001b[1;33m:\u001b[0m\u001b[1;33m\u001b[0m\u001b[1;33m\u001b[0m\u001b[0m\n\u001b[1;32m-> 3914\u001b[1;33m                 \u001b[0mobj\u001b[0m \u001b[1;33m=\u001b[0m \u001b[0mobj\u001b[0m\u001b[1;33m.\u001b[0m\u001b[0m_drop_axis\u001b[0m\u001b[1;33m(\u001b[0m\u001b[0mlabels\u001b[0m\u001b[1;33m,\u001b[0m \u001b[0maxis\u001b[0m\u001b[1;33m,\u001b[0m \u001b[0mlevel\u001b[0m\u001b[1;33m=\u001b[0m\u001b[0mlevel\u001b[0m\u001b[1;33m,\u001b[0m \u001b[0merrors\u001b[0m\u001b[1;33m=\u001b[0m\u001b[0merrors\u001b[0m\u001b[1;33m)\u001b[0m\u001b[1;33m\u001b[0m\u001b[1;33m\u001b[0m\u001b[0m\n\u001b[0m\u001b[0;32m   3915\u001b[0m \u001b[1;33m\u001b[0m\u001b[0m\n\u001b[0;32m   3916\u001b[0m         \u001b[1;32mif\u001b[0m \u001b[0minplace\u001b[0m\u001b[1;33m:\u001b[0m\u001b[1;33m\u001b[0m\u001b[1;33m\u001b[0m\u001b[0m\n",
      "\u001b[1;32mC:\\Users\\Public\\Anaconda3\\lib\\site-packages\\pandas\\core\\generic.py\u001b[0m in \u001b[0;36m_drop_axis\u001b[1;34m(self, labels, axis, level, errors)\u001b[0m\n\u001b[0;32m   3944\u001b[0m                 \u001b[0mnew_axis\u001b[0m \u001b[1;33m=\u001b[0m \u001b[0maxis\u001b[0m\u001b[1;33m.\u001b[0m\u001b[0mdrop\u001b[0m\u001b[1;33m(\u001b[0m\u001b[0mlabels\u001b[0m\u001b[1;33m,\u001b[0m \u001b[0mlevel\u001b[0m\u001b[1;33m=\u001b[0m\u001b[0mlevel\u001b[0m\u001b[1;33m,\u001b[0m \u001b[0merrors\u001b[0m\u001b[1;33m=\u001b[0m\u001b[0merrors\u001b[0m\u001b[1;33m)\u001b[0m\u001b[1;33m\u001b[0m\u001b[1;33m\u001b[0m\u001b[0m\n\u001b[0;32m   3945\u001b[0m             \u001b[1;32melse\u001b[0m\u001b[1;33m:\u001b[0m\u001b[1;33m\u001b[0m\u001b[1;33m\u001b[0m\u001b[0m\n\u001b[1;32m-> 3946\u001b[1;33m                 \u001b[0mnew_axis\u001b[0m \u001b[1;33m=\u001b[0m \u001b[0maxis\u001b[0m\u001b[1;33m.\u001b[0m\u001b[0mdrop\u001b[0m\u001b[1;33m(\u001b[0m\u001b[0mlabels\u001b[0m\u001b[1;33m,\u001b[0m \u001b[0merrors\u001b[0m\u001b[1;33m=\u001b[0m\u001b[0merrors\u001b[0m\u001b[1;33m)\u001b[0m\u001b[1;33m\u001b[0m\u001b[1;33m\u001b[0m\u001b[0m\n\u001b[0m\u001b[0;32m   3947\u001b[0m             \u001b[0mresult\u001b[0m \u001b[1;33m=\u001b[0m \u001b[0mself\u001b[0m\u001b[1;33m.\u001b[0m\u001b[0mreindex\u001b[0m\u001b[1;33m(\u001b[0m\u001b[1;33m**\u001b[0m\u001b[1;33m{\u001b[0m\u001b[0maxis_name\u001b[0m\u001b[1;33m:\u001b[0m \u001b[0mnew_axis\u001b[0m\u001b[1;33m}\u001b[0m\u001b[1;33m)\u001b[0m\u001b[1;33m\u001b[0m\u001b[1;33m\u001b[0m\u001b[0m\n\u001b[0;32m   3948\u001b[0m \u001b[1;33m\u001b[0m\u001b[0m\n",
      "\u001b[1;32mC:\\Users\\Public\\Anaconda3\\lib\\site-packages\\pandas\\core\\indexes\\base.py\u001b[0m in \u001b[0;36mdrop\u001b[1;34m(self, labels, errors)\u001b[0m\n\u001b[0;32m   5338\u001b[0m         \u001b[1;32mif\u001b[0m \u001b[0mmask\u001b[0m\u001b[1;33m.\u001b[0m\u001b[0many\u001b[0m\u001b[1;33m(\u001b[0m\u001b[1;33m)\u001b[0m\u001b[1;33m:\u001b[0m\u001b[1;33m\u001b[0m\u001b[1;33m\u001b[0m\u001b[0m\n\u001b[0;32m   5339\u001b[0m             \u001b[1;32mif\u001b[0m \u001b[0merrors\u001b[0m \u001b[1;33m!=\u001b[0m \u001b[1;34m\"ignore\"\u001b[0m\u001b[1;33m:\u001b[0m\u001b[1;33m\u001b[0m\u001b[1;33m\u001b[0m\u001b[0m\n\u001b[1;32m-> 5340\u001b[1;33m                 \u001b[1;32mraise\u001b[0m \u001b[0mKeyError\u001b[0m\u001b[1;33m(\u001b[0m\u001b[1;34m\"{} not found in axis\"\u001b[0m\u001b[1;33m.\u001b[0m\u001b[0mformat\u001b[0m\u001b[1;33m(\u001b[0m\u001b[0mlabels\u001b[0m\u001b[1;33m[\u001b[0m\u001b[0mmask\u001b[0m\u001b[1;33m]\u001b[0m\u001b[1;33m)\u001b[0m\u001b[1;33m)\u001b[0m\u001b[1;33m\u001b[0m\u001b[1;33m\u001b[0m\u001b[0m\n\u001b[0m\u001b[0;32m   5341\u001b[0m             \u001b[0mindexer\u001b[0m \u001b[1;33m=\u001b[0m \u001b[0mindexer\u001b[0m\u001b[1;33m[\u001b[0m\u001b[1;33m~\u001b[0m\u001b[0mmask\u001b[0m\u001b[1;33m]\u001b[0m\u001b[1;33m\u001b[0m\u001b[1;33m\u001b[0m\u001b[0m\n\u001b[0;32m   5342\u001b[0m         \u001b[1;32mreturn\u001b[0m \u001b[0mself\u001b[0m\u001b[1;33m.\u001b[0m\u001b[0mdelete\u001b[0m\u001b[1;33m(\u001b[0m\u001b[0mindexer\u001b[0m\u001b[1;33m)\u001b[0m\u001b[1;33m\u001b[0m\u001b[1;33m\u001b[0m\u001b[0m\n",
      "\u001b[1;31mKeyError\u001b[0m: \"['production_budget/worldwide_gross' 'production_budget - worldwide_gross'] not found in axis\""
     ]
    }
   ],
   "source": [
    "bm2_df.drop(['production_budget/worldwide_gross', 'production_budget - worldwide_gross'], axis = 1, inplace = True)"
   ]
  },
  {
   "cell_type": "code",
   "execution_count": 295,
   "metadata": {},
   "outputs": [],
   "source": [
    "df['profit_margin'] = (df['worldwide_gross'] - df['production_budget'])/(df['worldwide_gross'])"
   ]
  },
  {
   "cell_type": "code",
   "execution_count": 320,
   "metadata": {},
   "outputs": [],
   "source": [
    "df.reset_index(inplace = True)"
   ]
  },
  {
   "cell_type": "code",
   "execution_count": 491,
   "metadata": {},
   "outputs": [
    {
     "data": {
      "text/html": [
       "<div>\n",
       "<style scoped>\n",
       "    .dataframe tbody tr th:only-of-type {\n",
       "        vertical-align: middle;\n",
       "    }\n",
       "\n",
       "    .dataframe tbody tr th {\n",
       "        vertical-align: top;\n",
       "    }\n",
       "\n",
       "    .dataframe thead th {\n",
       "        text-align: right;\n",
       "    }\n",
       "</style>\n",
       "<table border=\"1\" class=\"dataframe\">\n",
       "  <thead>\n",
       "    <tr style=\"text-align: right;\">\n",
       "      <th></th>\n",
       "      <th>genre</th>\n",
       "      <th>profit_margin</th>\n",
       "    </tr>\n",
       "  </thead>\n",
       "  <tbody>\n",
       "    <tr>\n",
       "      <td>41</td>\n",
       "      <td>(Romance, Comedy)</td>\n",
       "      <td>0.774125</td>\n",
       "    </tr>\n",
       "    <tr>\n",
       "      <td>32</td>\n",
       "      <td>(Family, Comedy)</td>\n",
       "      <td>0.792402</td>\n",
       "    </tr>\n",
       "    <tr>\n",
       "      <td>31</td>\n",
       "      <td>(Family, Animation, Comedy)</td>\n",
       "      <td>0.807584</td>\n",
       "    </tr>\n",
       "    <tr>\n",
       "      <td>40</td>\n",
       "      <td>(Music, Drama)</td>\n",
       "      <td>0.809051</td>\n",
       "    </tr>\n",
       "    <tr>\n",
       "      <td>35</td>\n",
       "      <td>(Horror,)</td>\n",
       "      <td>0.815839</td>\n",
       "    </tr>\n",
       "    <tr>\n",
       "      <td>44</td>\n",
       "      <td>(Thriller,)</td>\n",
       "      <td>0.849039</td>\n",
       "    </tr>\n",
       "    <tr>\n",
       "      <td>33</td>\n",
       "      <td>(Family, Drama)</td>\n",
       "      <td>0.859743</td>\n",
       "    </tr>\n",
       "    <tr>\n",
       "      <td>37</td>\n",
       "      <td>(Horror, Thriller)</td>\n",
       "      <td>0.864750</td>\n",
       "    </tr>\n",
       "    <tr>\n",
       "      <td>36</td>\n",
       "      <td>(Horror, Comedy)</td>\n",
       "      <td>0.871032</td>\n",
       "    </tr>\n",
       "    <tr>\n",
       "      <td>38</td>\n",
       "      <td>(Horror, Thriller, Mystery)</td>\n",
       "      <td>0.902640</td>\n",
       "    </tr>\n",
       "  </tbody>\n",
       "</table>\n",
       "</div>"
      ],
      "text/plain": [
       "                          genre  profit_margin\n",
       "41            (Romance, Comedy)       0.774125\n",
       "32             (Family, Comedy)       0.792402\n",
       "31  (Family, Animation, Comedy)       0.807584\n",
       "40               (Music, Drama)       0.809051\n",
       "35                    (Horror,)       0.815839\n",
       "44                  (Thriller,)       0.849039\n",
       "33              (Family, Drama)       0.859743\n",
       "37           (Horror, Thriller)       0.864750\n",
       "36             (Horror, Comedy)       0.871032\n",
       "38  (Horror, Thriller, Mystery)       0.902640"
      ]
     },
     "execution_count": 491,
     "metadata": {},
     "output_type": "execute_result"
    }
   ],
   "source": [
    "profit_margin = df[['genre', 'profit_margin']].sort_values(by = 'profit_margin', ascending = True).tail(10)\n",
    "\n",
    "#genre\n",
    "profit_margin\n",
    "#seaborn.barplot(x = profit_margin['profit_margin'], y = profit_margin['genre'])"
   ]
  },
  {
   "cell_type": "code",
   "execution_count": 497,
   "metadata": {},
   "outputs": [
    {
     "data": {
      "text/plain": [
       "release_datel_suffix    0\n",
       "production_budget       0\n",
       "domestic_gross          0\n",
       "worldwide_gross         0\n",
       "genre_ids               0\n",
       "original_language       0\n",
       "popularity              0\n",
       "release_dater_suffix    0\n",
       "vote_average            0\n",
       "vote_count              0\n",
       "genre                   0\n",
       "dtype: int64"
      ]
     },
     "execution_count": 497,
     "metadata": {},
     "output_type": "execute_result"
    }
   ],
   "source": [
    "bm_df.isna().sum()"
   ]
  },
  {
   "cell_type": "code",
   "execution_count": null,
   "metadata": {},
   "outputs": [],
   "source": [
    "def convert_languages():\n",
    "    languages = {\n",
    "        \n",
    "    }"
   ]
  },
  {
   "cell_type": "code",
   "execution_count": 478,
   "metadata": {},
   "outputs": [
    {
     "data": {
      "text/html": [
       "<div>\n",
       "<style scoped>\n",
       "    .dataframe tbody tr th:only-of-type {\n",
       "        vertical-align: middle;\n",
       "    }\n",
       "\n",
       "    .dataframe tbody tr th {\n",
       "        vertical-align: top;\n",
       "    }\n",
       "\n",
       "    .dataframe thead th {\n",
       "        text-align: right;\n",
       "    }\n",
       "</style>\n",
       "<table border=\"1\" class=\"dataframe\">\n",
       "  <thead>\n",
       "    <tr style=\"text-align: right;\">\n",
       "      <th></th>\n",
       "      <th>title</th>\n",
       "      <th>release_datel_suffix</th>\n",
       "      <th>production_budget</th>\n",
       "      <th>domestic_gross</th>\n",
       "      <th>worldwide_gross</th>\n",
       "      <th>genre_ids</th>\n",
       "      <th>original_language</th>\n",
       "      <th>release_dater_suffix</th>\n",
       "      <th>genre</th>\n",
       "    </tr>\n",
       "  </thead>\n",
       "  <tbody>\n",
       "    <tr>\n",
       "      <td>0</td>\n",
       "      <td>Avatar</td>\n",
       "      <td>2009-12-18</td>\n",
       "      <td>425000000</td>\n",
       "      <td>7.605076e+08</td>\n",
       "      <td>2.776345e+09</td>\n",
       "      <td>[28, 12, 14, 878]</td>\n",
       "      <td>en</td>\n",
       "      <td>2009-12-18</td>\n",
       "      <td>(Adventure, Fantasy, Action, Science Fiction)</td>\n",
       "    </tr>\n",
       "    <tr>\n",
       "      <td>1</td>\n",
       "      <td>Pirates of the Caribbean: On Stranger Tides</td>\n",
       "      <td>2011-05-20</td>\n",
       "      <td>410600000</td>\n",
       "      <td>2.410639e+08</td>\n",
       "      <td>1.045664e+09</td>\n",
       "      <td>[12, 28, 14]</td>\n",
       "      <td>en</td>\n",
       "      <td>2011-05-20</td>\n",
       "      <td>(Adventure, Fantasy, Action)</td>\n",
       "    </tr>\n",
       "    <tr>\n",
       "      <td>2</td>\n",
       "      <td>Avengers: Age of Ultron</td>\n",
       "      <td>2015-05-01</td>\n",
       "      <td>330600000</td>\n",
       "      <td>4.590059e+08</td>\n",
       "      <td>1.403014e+09</td>\n",
       "      <td>[28, 12, 878]</td>\n",
       "      <td>en</td>\n",
       "      <td>2015-05-01</td>\n",
       "      <td>(Adventure, Action, Science Fiction)</td>\n",
       "    </tr>\n",
       "    <tr>\n",
       "      <td>3</td>\n",
       "      <td>Avengers: Infinity War</td>\n",
       "      <td>2018-04-27</td>\n",
       "      <td>300000000</td>\n",
       "      <td>6.788155e+08</td>\n",
       "      <td>2.048134e+09</td>\n",
       "      <td>[12, 28, 14]</td>\n",
       "      <td>en</td>\n",
       "      <td>2018-04-27</td>\n",
       "      <td>(Adventure, Fantasy, Action)</td>\n",
       "    </tr>\n",
       "    <tr>\n",
       "      <td>4</td>\n",
       "      <td>Justice League</td>\n",
       "      <td>2017-11-17</td>\n",
       "      <td>300000000</td>\n",
       "      <td>2.290243e+08</td>\n",
       "      <td>6.559452e+08</td>\n",
       "      <td>[28, 12, 14, 878]</td>\n",
       "      <td>en</td>\n",
       "      <td>2017-11-17</td>\n",
       "      <td>(Adventure, Fantasy, Action, Science Fiction)</td>\n",
       "    </tr>\n",
       "    <tr>\n",
       "      <td>...</td>\n",
       "      <td>...</td>\n",
       "      <td>...</td>\n",
       "      <td>...</td>\n",
       "      <td>...</td>\n",
       "      <td>...</td>\n",
       "      <td>...</td>\n",
       "      <td>...</td>\n",
       "      <td>...</td>\n",
       "      <td>...</td>\n",
       "    </tr>\n",
       "    <tr>\n",
       "      <td>1530</td>\n",
       "      <td>Krisha</td>\n",
       "      <td>2016-03-18</td>\n",
       "      <td>30000</td>\n",
       "      <td>1.448220e+05</td>\n",
       "      <td>1.448220e+05</td>\n",
       "      <td>[18]</td>\n",
       "      <td>en</td>\n",
       "      <td>2016-03-18</td>\n",
       "      <td>(Drama,)</td>\n",
       "    </tr>\n",
       "    <tr>\n",
       "      <td>1531</td>\n",
       "      <td>Emily</td>\n",
       "      <td>2013-06-21</td>\n",
       "      <td>27000</td>\n",
       "      <td>3.547000e+03</td>\n",
       "      <td>3.547000e+03</td>\n",
       "      <td>[18]</td>\n",
       "      <td>en</td>\n",
       "      <td>2013-06-21</td>\n",
       "      <td>(Drama,)</td>\n",
       "    </tr>\n",
       "    <tr>\n",
       "      <td>1532</td>\n",
       "      <td>Exeter</td>\n",
       "      <td>2015-03-26</td>\n",
       "      <td>25000</td>\n",
       "      <td>4.562348e+07</td>\n",
       "      <td>4.897920e+05</td>\n",
       "      <td>[53, 27]</td>\n",
       "      <td>en</td>\n",
       "      <td>2015-03-26</td>\n",
       "      <td>(Horror, Thriller)</td>\n",
       "    </tr>\n",
       "    <tr>\n",
       "      <td>1533</td>\n",
       "      <td>Dry Spell</td>\n",
       "      <td>2013-02-14</td>\n",
       "      <td>22000</td>\n",
       "      <td>4.562348e+07</td>\n",
       "      <td>1.093927e+08</td>\n",
       "      <td>[35, 10749]</td>\n",
       "      <td>en</td>\n",
       "      <td>2013-02-14</td>\n",
       "      <td>(Romance, Comedy)</td>\n",
       "    </tr>\n",
       "    <tr>\n",
       "      <td>1534</td>\n",
       "      <td>Newlyweds</td>\n",
       "      <td>2011-12-26</td>\n",
       "      <td>9000</td>\n",
       "      <td>4.584000e+03</td>\n",
       "      <td>4.584000e+03</td>\n",
       "      <td>[35, 10749]</td>\n",
       "      <td>en</td>\n",
       "      <td>2011-12-26</td>\n",
       "      <td>(Romance, Comedy)</td>\n",
       "    </tr>\n",
       "  </tbody>\n",
       "</table>\n",
       "<p>1535 rows × 9 columns</p>\n",
       "</div>"
      ],
      "text/plain": [
       "                                            title release_datel_suffix  \\\n",
       "0                                          Avatar           2009-12-18   \n",
       "1     Pirates of the Caribbean: On Stranger Tides           2011-05-20   \n",
       "2                         Avengers: Age of Ultron           2015-05-01   \n",
       "3                          Avengers: Infinity War           2018-04-27   \n",
       "4                                  Justice League           2017-11-17   \n",
       "...                                           ...                  ...   \n",
       "1530                                       Krisha           2016-03-18   \n",
       "1531                                        Emily           2013-06-21   \n",
       "1532                                       Exeter           2015-03-26   \n",
       "1533                                    Dry Spell           2013-02-14   \n",
       "1534                                    Newlyweds           2011-12-26   \n",
       "\n",
       "      production_budget  domestic_gross  worldwide_gross          genre_ids  \\\n",
       "0             425000000    7.605076e+08     2.776345e+09  [28, 12, 14, 878]   \n",
       "1             410600000    2.410639e+08     1.045664e+09       [12, 28, 14]   \n",
       "2             330600000    4.590059e+08     1.403014e+09      [28, 12, 878]   \n",
       "3             300000000    6.788155e+08     2.048134e+09       [12, 28, 14]   \n",
       "4             300000000    2.290243e+08     6.559452e+08  [28, 12, 14, 878]   \n",
       "...                 ...             ...              ...                ...   \n",
       "1530              30000    1.448220e+05     1.448220e+05               [18]   \n",
       "1531              27000    3.547000e+03     3.547000e+03               [18]   \n",
       "1532              25000    4.562348e+07     4.897920e+05           [53, 27]   \n",
       "1533              22000    4.562348e+07     1.093927e+08        [35, 10749]   \n",
       "1534               9000    4.584000e+03     4.584000e+03        [35, 10749]   \n",
       "\n",
       "     original_language release_dater_suffix  \\\n",
       "0                   en           2009-12-18   \n",
       "1                   en           2011-05-20   \n",
       "2                   en           2015-05-01   \n",
       "3                   en           2018-04-27   \n",
       "4                   en           2017-11-17   \n",
       "...                ...                  ...   \n",
       "1530                en           2016-03-18   \n",
       "1531                en           2013-06-21   \n",
       "1532                en           2015-03-26   \n",
       "1533                en           2013-02-14   \n",
       "1534                en           2011-12-26   \n",
       "\n",
       "                                              genre  \n",
       "0     (Adventure, Fantasy, Action, Science Fiction)  \n",
       "1                      (Adventure, Fantasy, Action)  \n",
       "2              (Adventure, Action, Science Fiction)  \n",
       "3                      (Adventure, Fantasy, Action)  \n",
       "4     (Adventure, Fantasy, Action, Science Fiction)  \n",
       "...                                             ...  \n",
       "1530                                       (Drama,)  \n",
       "1531                                       (Drama,)  \n",
       "1532                             (Horror, Thriller)  \n",
       "1533                              (Romance, Comedy)  \n",
       "1534                              (Romance, Comedy)  \n",
       "\n",
       "[1535 rows x 9 columns]"
      ]
     },
     "execution_count": 478,
     "metadata": {},
     "output_type": "execute_result"
    }
   ],
   "source": [
    "bm2_df"
   ]
  },
  {
   "cell_type": "code",
   "execution_count": 489,
   "metadata": {},
   "outputs": [
    {
     "data": {
      "text/html": [
       "<div>\n",
       "<style scoped>\n",
       "    .dataframe tbody tr th:only-of-type {\n",
       "        vertical-align: middle;\n",
       "    }\n",
       "\n",
       "    .dataframe tbody tr th {\n",
       "        vertical-align: top;\n",
       "    }\n",
       "\n",
       "    .dataframe thead th {\n",
       "        text-align: right;\n",
       "    }\n",
       "</style>\n",
       "<table border=\"1\" class=\"dataframe\">\n",
       "  <thead>\n",
       "    <tr style=\"text-align: right;\">\n",
       "      <th></th>\n",
       "      <th>title</th>\n",
       "      <th>release_datel_suffix</th>\n",
       "      <th>production_budget</th>\n",
       "      <th>domestic_gross</th>\n",
       "      <th>worldwide_gross</th>\n",
       "      <th>genre_ids</th>\n",
       "      <th>original_language</th>\n",
       "      <th>release_dater_suffix</th>\n",
       "      <th>genre</th>\n",
       "    </tr>\n",
       "  </thead>\n",
       "  <tbody>\n",
       "  </tbody>\n",
       "</table>\n",
       "</div>"
      ],
      "text/plain": [
       "Empty DataFrame\n",
       "Columns: [title, release_datel_suffix, production_budget, domestic_gross, worldwide_gross, genre_ids, original_language, release_dater_suffix, genre]\n",
       "Index: []"
      ]
     },
     "execution_count": 489,
     "metadata": {},
     "output_type": "execute_result"
    }
   ],
   "source": [
    "bm2_df.loc[bm2_df['title'] == 'Frozen']"
   ]
  },
  {
   "cell_type": "code",
   "execution_count": 357,
   "metadata": {},
   "outputs": [],
   "source": [
    "bm2_df.reset_index(inplace=True)"
   ]
  },
  {
   "cell_type": "code",
   "execution_count": 362,
   "metadata": {},
   "outputs": [
    {
     "name": "stderr",
     "output_type": "stream",
     "text": [
      "C:\\Users\\Public\\Anaconda3\\lib\\site-packages\\ipykernel_launcher.py:1: SettingWithCopyWarning: \n",
      "A value is trying to be set on a copy of a slice from a DataFrame.\n",
      "Try using .loc[row_indexer,col_indexer] = value instead\n",
      "\n",
      "See the caveats in the documentation: http://pandas.pydata.org/pandas-docs/stable/user_guide/indexing.html#returning-a-view-versus-a-copy\n",
      "  \"\"\"Entry point for launching an IPython kernel.\n"
     ]
    }
   ],
   "source": [
    "bm2_df['release_datel_suffix'] = pd.to_datetime(bm2_df['release_dater_suffix'])"
   ]
  },
  {
   "cell_type": "code",
   "execution_count": 488,
   "metadata": {},
   "outputs": [
    {
     "data": {
      "text/plain": [
       "<matplotlib.axes._subplots.AxesSubplot at 0x25daf2c7e88>"
      ]
     },
     "execution_count": 488,
     "metadata": {},
     "output_type": "execute_result"
    },
    {
     "data": {
      "image/png": "[encoded data removed]",
      "text/plain": [
       "<Figure size 720x720 with 1 Axes>"
      ]
     },
     "metadata": {
      "needs_background": "light"
     },
     "output_type": "display_data"
    }
   ],
   "source": [
    "bm2_df.groupby(bm2_df['release_datel_suffix'].dt.month).mean().plot(kind = 'bar', figsize = (10,10))\n"
   ]
  },
  {
   "cell_type": "code",
   "execution_count": 388,
   "metadata": {},
   "outputs": [
    {
     "name": "stderr",
     "output_type": "stream",
     "text": [
      "C:\\Users\\Public\\Anaconda3\\lib\\site-packages\\pandas\\core\\frame.py:4102: SettingWithCopyWarning: \n",
      "A value is trying to be set on a copy of a slice from a DataFrame\n",
      "\n",
      "See the caveats in the documentation: http://pandas.pydata.org/pandas-docs/stable/user_guide/indexing.html#returning-a-view-versus-a-copy\n",
      "  errors=errors,\n"
     ]
    }
   ],
   "source": [
    "bm2_df.drop(['popularity', 'vote_average', 'vote_count'], axis = 1 ,inplace = True)"
   ]
  },
  {
   "cell_type": "code",
   "execution_count": 420,
   "metadata": {},
   "outputs": [],
   "source": [
    "mv_df = read_df_file('./zippedData/imdb.name.basics.csv.gz')"
   ]
  },
  {
   "cell_type": "code",
   "execution_count": 412,
   "metadata": {},
   "outputs": [],
   "source": [
    "mv_df.dropna(inplace = True)"
   ]
  },
  {
   "cell_type": "code",
   "execution_count": 487,
   "metadata": {},
   "outputs": [
    {
     "data": {
      "text/plain": [
       "False    1073\n",
       "dtype: int64"
      ]
     },
     "execution_count": 487,
     "metadata": {},
     "output_type": "execute_result"
    }
   ],
   "source": [
    "bm2_df.duplicated().value_counts()"
   ]
  },
  {
   "cell_type": "code",
   "execution_count": 485,
   "metadata": {},
   "outputs": [
    {
     "name": "stderr",
     "output_type": "stream",
     "text": [
      "C:\\Users\\Public\\Anaconda3\\lib\\site-packages\\ipykernel_launcher.py:1: SettingWithCopyWarning: \n",
      "A value is trying to be set on a copy of a slice from a DataFrame\n",
      "\n",
      "See the caveats in the documentation: http://pandas.pydata.org/pandas-docs/stable/user_guide/indexing.html#returning-a-view-versus-a-copy\n",
      "  \"\"\"Entry point for launching an IPython kernel.\n"
     ]
    }
   ],
   "source": [
    "bm2_df.drop_duplicates(subset = ['title'], keep = False, inplace = True)"
   ]
  },
  {
   "cell_type": "code",
   "execution_count": 493,
   "metadata": {},
   "outputs": [
    {
     "data": {
      "text/html": [
       "<div>\n",
       "<style scoped>\n",
       "    .dataframe tbody tr th:only-of-type {\n",
       "        vertical-align: middle;\n",
       "    }\n",
       "\n",
       "    .dataframe tbody tr th {\n",
       "        vertical-align: top;\n",
       "    }\n",
       "\n",
       "    .dataframe thead th {\n",
       "        text-align: right;\n",
       "    }\n",
       "</style>\n",
       "<table border=\"1\" class=\"dataframe\">\n",
       "  <thead>\n",
       "    <tr style=\"text-align: right;\">\n",
       "      <th></th>\n",
       "      <th>nconst</th>\n",
       "      <th>primary_name</th>\n",
       "      <th>birth_year</th>\n",
       "      <th>death_year</th>\n",
       "      <th>primary_profession</th>\n",
       "      <th>known_for_titles</th>\n",
       "    </tr>\n",
       "  </thead>\n",
       "  <tbody>\n",
       "    <tr>\n",
       "      <td>0</td>\n",
       "      <td>nm0061671</td>\n",
       "      <td>Mary Ellen Bauder</td>\n",
       "      <td>NaN</td>\n",
       "      <td>NaN</td>\n",
       "      <td>miscellaneous,production_manager,producer</td>\n",
       "      <td>tt0837562,tt2398241,tt0844471,tt0118553</td>\n",
       "    </tr>\n",
       "    <tr>\n",
       "      <td>1</td>\n",
       "      <td>nm0061865</td>\n",
       "      <td>Joseph Bauer</td>\n",
       "      <td>NaN</td>\n",
       "      <td>NaN</td>\n",
       "      <td>composer,music_department,sound_department</td>\n",
       "      <td>tt0896534,tt6791238,tt0287072,tt1682940</td>\n",
       "    </tr>\n",
       "    <tr>\n",
       "      <td>2</td>\n",
       "      <td>nm0062070</td>\n",
       "      <td>Bruce Baum</td>\n",
       "      <td>NaN</td>\n",
       "      <td>NaN</td>\n",
       "      <td>miscellaneous,actor,writer</td>\n",
       "      <td>tt1470654,tt0363631,tt0104030,tt0102898</td>\n",
       "    </tr>\n",
       "    <tr>\n",
       "      <td>3</td>\n",
       "      <td>nm0062195</td>\n",
       "      <td>Axel Baumann</td>\n",
       "      <td>NaN</td>\n",
       "      <td>NaN</td>\n",
       "      <td>camera_department,cinematographer,art_department</td>\n",
       "      <td>tt0114371,tt2004304,tt1618448,tt1224387</td>\n",
       "    </tr>\n",
       "    <tr>\n",
       "      <td>4</td>\n",
       "      <td>nm0062798</td>\n",
       "      <td>Pete Baxter</td>\n",
       "      <td>NaN</td>\n",
       "      <td>NaN</td>\n",
       "      <td>production_designer,art_department,set_decorator</td>\n",
       "      <td>tt0452644,tt0452692,tt3458030,tt2178256</td>\n",
       "    </tr>\n",
       "    <tr>\n",
       "      <td>...</td>\n",
       "      <td>...</td>\n",
       "      <td>...</td>\n",
       "      <td>...</td>\n",
       "      <td>...</td>\n",
       "      <td>...</td>\n",
       "      <td>...</td>\n",
       "    </tr>\n",
       "    <tr>\n",
       "      <td>606643</td>\n",
       "      <td>nm9990381</td>\n",
       "      <td>Susan Grobes</td>\n",
       "      <td>NaN</td>\n",
       "      <td>NaN</td>\n",
       "      <td>actress</td>\n",
       "      <td>NaN</td>\n",
       "    </tr>\n",
       "    <tr>\n",
       "      <td>606644</td>\n",
       "      <td>nm9990690</td>\n",
       "      <td>Joo Yeon So</td>\n",
       "      <td>NaN</td>\n",
       "      <td>NaN</td>\n",
       "      <td>actress</td>\n",
       "      <td>tt9090932,tt8737130</td>\n",
       "    </tr>\n",
       "    <tr>\n",
       "      <td>606645</td>\n",
       "      <td>nm9991320</td>\n",
       "      <td>Madeline Smith</td>\n",
       "      <td>NaN</td>\n",
       "      <td>NaN</td>\n",
       "      <td>actress</td>\n",
       "      <td>tt8734436,tt9615610</td>\n",
       "    </tr>\n",
       "    <tr>\n",
       "      <td>606646</td>\n",
       "      <td>nm9991786</td>\n",
       "      <td>Michelle Modigliani</td>\n",
       "      <td>NaN</td>\n",
       "      <td>NaN</td>\n",
       "      <td>producer</td>\n",
       "      <td>NaN</td>\n",
       "    </tr>\n",
       "    <tr>\n",
       "      <td>606647</td>\n",
       "      <td>nm9993380</td>\n",
       "      <td>Pegasus Envoyé</td>\n",
       "      <td>NaN</td>\n",
       "      <td>NaN</td>\n",
       "      <td>director,actor,writer</td>\n",
       "      <td>tt8743182</td>\n",
       "    </tr>\n",
       "  </tbody>\n",
       "</table>\n",
       "<p>606648 rows × 6 columns</p>\n",
       "</div>"
      ],
      "text/plain": [
       "           nconst         primary_name  birth_year  death_year  \\\n",
       "0       nm0061671    Mary Ellen Bauder         NaN         NaN   \n",
       "1       nm0061865         Joseph Bauer         NaN         NaN   \n",
       "2       nm0062070           Bruce Baum         NaN         NaN   \n",
       "3       nm0062195         Axel Baumann         NaN         NaN   \n",
       "4       nm0062798          Pete Baxter         NaN         NaN   \n",
       "...           ...                  ...         ...         ...   \n",
       "606643  nm9990381         Susan Grobes         NaN         NaN   \n",
       "606644  nm9990690          Joo Yeon So         NaN         NaN   \n",
       "606645  nm9991320       Madeline Smith         NaN         NaN   \n",
       "606646  nm9991786  Michelle Modigliani         NaN         NaN   \n",
       "606647  nm9993380       Pegasus Envoyé         NaN         NaN   \n",
       "\n",
       "                                      primary_profession  \\\n",
       "0              miscellaneous,production_manager,producer   \n",
       "1             composer,music_department,sound_department   \n",
       "2                             miscellaneous,actor,writer   \n",
       "3       camera_department,cinematographer,art_department   \n",
       "4       production_designer,art_department,set_decorator   \n",
       "...                                                  ...   \n",
       "606643                                           actress   \n",
       "606644                                           actress   \n",
       "606645                                           actress   \n",
       "606646                                          producer   \n",
       "606647                             director,actor,writer   \n",
       "\n",
       "                               known_for_titles  \n",
       "0       tt0837562,tt2398241,tt0844471,tt0118553  \n",
       "1       tt0896534,tt6791238,tt0287072,tt1682940  \n",
       "2       tt1470654,tt0363631,tt0104030,tt0102898  \n",
       "3       tt0114371,tt2004304,tt1618448,tt1224387  \n",
       "4       tt0452644,tt0452692,tt3458030,tt2178256  \n",
       "...                                         ...  \n",
       "606643                                      NaN  \n",
       "606644                      tt9090932,tt8737130  \n",
       "606645                      tt8734436,tt9615610  \n",
       "606646                                      NaN  \n",
       "606647                                tt8743182  \n",
       "\n",
       "[606648 rows x 6 columns]"
      ]
     },
     "execution_count": 493,
     "metadata": {},
     "output_type": "execute_result"
    }
   ],
   "source": [
    "mv_df"
   ]
  },
  {
   "cell_type": "code",
   "execution_count": null,
   "metadata": {},
   "outputs": [],
   "source": []
  }
 ],
 "metadata": {
  "kernelspec": {
   "display_name": "Python 3",
   "language": "python",
   "name": "python3"
  },
  "language_info": {
   "codemirror_mode": {
    "name": "ipython",
    "version": 3
   },
   "file_extension": ".py",
   "mimetype": "text/x-python",
   "name": "python",
   "nbconvert_exporter": "python",
   "pygments_lexer": "ipython3",
   "version": "3.7.4"
  }
 },
 "nbformat": 4,
 "nbformat_minor": 2
}
