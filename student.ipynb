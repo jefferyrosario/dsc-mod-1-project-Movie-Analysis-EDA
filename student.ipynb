{
 "cells": [
  {
   "cell_type": "markdown",
   "metadata": {},
   "source": [
    "## Final Project Submission\n",
    "\n",
    "Please fill out:\n",
    "* Student name: \n",
    "* Student pace: self paced / part time / full time\n",
    "* Scheduled project review date/time: \n",
    "* Instructor name: \n",
    "* Blog post URL:\n"
   ]
  },
  {
   "cell_type": "markdown",
   "metadata": {},
   "source": [
    "Jeffery Rosario\n",
    "Student pace : part time"
   ]
  },
  {
   "cell_type": "code",
   "execution_count": 1,
   "metadata": {},
   "outputs": [],
   "source": [
    "import pandas as pd\n",
    "import matplotlib.pyplot as plt\n",
    "import numpy as np\n",
    "from zipfile import ZipFile\n",
    "import requests\n",
    "import json\n",
    "import re\n",
    "import matplotlib as plt\n",
    "import seaborn\n",
    "%matplotlib inline"
   ]
  },
  {
   "cell_type": "markdown",
   "metadata": {},
   "source": [
    "Let's first begin to do the exploratory data analysis and ose some questions. \n",
    "\n",
    "Microsoft sees all the big companies creating original video content, and they want to get in on the fun. They have decided to create a new movie studio, but the problem is they don’t know anything about creating movies. They have hired you to help them better understand the movie industry. Your team is charged with doing data analysis and creating a presentation that explores what type of films are currently doing the best at the box office. You must then translate those findings into actionable insights that the CEO can use when deciding what type of films they should be creating."
   ]
  },
  {
   "cell_type": "markdown",
   "metadata": {},
   "source": [
    "Let's pose some questions for data analysis:\n",
    "\n",
    "1. What type/genres of films are making the most money? \n",
    "2. How much profit? Let's look at gross and profit margin.\n",
    "3. Does the time period the movie is released important to the amount of money you can make?\n",
    " "
   ]
  },
  {
   "cell_type": "markdown",
   "metadata": {},
   "source": [
    "Let's start by importing the files and defining our functions as well. Some functions we are defining here:\n",
    "\n",
    "1. Reading .csv file into a DataFrame\n",
    "2. Converting genre_ids to genres\n",
    "3. Converting a string to a list\n",
    "4. Converting an object to an integer"
   ]
  },
  {
   "cell_type": "code",
   "execution_count": 2,
   "metadata": {},
   "outputs": [],
   "source": [
    "\n",
    "file_budgets = './zippedData/tn.movie_budgets.csv.gz' \n",
    "file_movies = './zippedData/tmdb.mOvies.csv.gz'\n",
    "\n",
    "def read_df_file(filename): # read the file into a pandas DataFrame\n",
    "    df = pd.read_csv(filename, compression = 'gzip', error_bad_lines = False, na_values = '.')\n",
    "    return(df)\n",
    "\n",
    "\n",
    "def get_keys(path):\n",
    "    with open(path) as f:\n",
    "        return json.load(f)\n",
    "    \n",
    "def convert_genre_ids(genre_ids): # generate a dictionary of genres from the genre_ids\n",
    "    genre_ids_dict = {\n",
    "      \"28\": \"Action\",\n",
    "      \"12\": \"Adventure\",\n",
    "      \"16\": \"Animation\",\n",
    "      \"35\": \"Comedy\",\n",
    "      \"80\": \"Crime\",\n",
    "      \"99\": \"Documentary\",\n",
    "      \"18\": \"Drama\",\n",
    "      \"10751\": \"Family\",\n",
    "      \"14\" : \"Fantasy\",\n",
    "      \"36\": \"History\",\n",
    "      \"27\": \"Horror\",\n",
    "      \"10402\": \"Music\",\n",
    "      \"9648\": \"Mystery\",\n",
    "      \"10749\": \"Romance\",\n",
    "      \"878\": \"Science Fiction\",\n",
    "      \"10770\": \"TV Movie\",\n",
    "      \"53\": \"Thriller\",\n",
    "      \"10752\": \"War\",\n",
    "      \"37\": \"Western\"\n",
    "    }\n",
    "    genre_ids = conv_str_to_lst(genre_ids)\n",
    "    genre_list = []\n",
    "    for genre_id in genre_ids:\n",
    "        genre_list.append(genre_ids_dict[genre_id])\n",
    "        #print(genre_list.append(genre_ids_dict[genre_id]))\n",
    "    genre_list = tuple(genre_list)\n",
    "    return genre_list\n",
    "    \n",
    "def conv_str_to_lst(str):\n",
    "    match = re.compile('\\d+')\n",
    "    match = match.findall(str)\n",
    "    match.sort()\n",
    "    return match\n",
    "\n",
    "def conv_object_to_int(s):\n",
    "    match = re.compile('\\d+')\n",
    "    match = match.findall(s)\n",
    "    integer = [str(m) for m in match]\n",
    "    res = int(\"\".join(integer))\n",
    "    return res\n",
    "  \n",
    "\n",
    "keys = get_keys('/Users/Jeffery Rosario/.secret/moviedb_api.json')\n"
   ]
  },
  {
   "cell_type": "markdown",
   "metadata": {},
   "source": [
    "Now we can read our .csv files into a Pandas DataFrame. We are reading our budgets and movie .csv files from MovieDB.com. You can use an api to access their data. Let's set the index for each of the dataframes to the title of the movie and remove some irrelevant columns for each dataframe. Let's also change the genre_ids to their human readable formats."
   ]
  },
  {
   "cell_type": "code",
   "execution_count": 3,
   "metadata": {},
   "outputs": [],
   "source": [
    "budgets_df = read_df_file(file_budgets)\n",
    "movies_df = read_df_file(file_movies)\n",
    "\n",
    "movies_df.set_index('title', inplace = True)     #set the index to title\n",
    "movies_df.drop(['Unnamed: 0', 'original_title', 'id'], axis=1, inplace = True)    #drop irrelevant columns\n",
    "movies_df = movies_df[movies_df.genre_ids != '[]']    #remove rows with genre unknown\n",
    "\n",
    "budgets_df.drop(['id'], axis = 1, inplace = True)     #drop columns that are irrelevant\n",
    "budgets_df.set_index(['movie'], inplace = True)         #set the index\n",
    "budgets_df.index.names = ['title']\n",
    "\n",
    "movies_df['genre'] = movies_df['genre_ids'].map(convert_genre_ids)"
   ]
  },
  {
   "cell_type": "markdown",
   "metadata": {},
   "source": [
    "To compare our budgets and movies DataFrames, we need to join them. We do this on their title column. "
   ]
  },
  {
   "cell_type": "code",
   "execution_count": 4,
   "metadata": {},
   "outputs": [],
   "source": [
    "bm_df = budgets_df.join(movies_df, how = 'left', on = 'title', lsuffix = 'l_suffix', rsuffix = 'r_suffix' )"
   ]
  },
  {
   "cell_type": "markdown",
   "metadata": {},
   "source": [
    "Let's make sure our data is not missing any data points."
   ]
  },
  {
   "cell_type": "code",
   "execution_count": 5,
   "metadata": {},
   "outputs": [
    {
     "data": {
      "text/plain": [
       "release_datel_suffix       0\n",
       "production_budget          0\n",
       "domestic_gross             0\n",
       "worldwide_gross            0\n",
       "genre_ids               3830\n",
       "original_language       3830\n",
       "popularity              3830\n",
       "release_dater_suffix    3830\n",
       "vote_average            3830\n",
       "vote_count              3830\n",
       "genre                   3830\n",
       "dtype: int64"
      ]
     },
     "execution_count": 5,
     "metadata": {},
     "output_type": "execute_result"
    }
   ],
   "source": [
    "bm_df.isna().sum()"
   ]
  },
  {
   "cell_type": "markdown",
   "metadata": {},
   "source": [
    "This data seems to be lost in translation so we will need to drop them."
   ]
  },
  {
   "cell_type": "code",
   "execution_count": 6,
   "metadata": {},
   "outputs": [],
   "source": [
    "bm_df.dropna(inplace = True)"
   ]
  },
  {
   "cell_type": "markdown",
   "metadata": {},
   "source": [
    "Let's inspect our data:"
   ]
  },
  {
   "cell_type": "code",
   "execution_count": 7,
   "metadata": {},
   "outputs": [
    {
     "name": "stdout",
     "output_type": "stream",
     "text": [
      "<class 'pandas.core.frame.DataFrame'>\n",
      "Index: 2320 entries, Avatar to Newlyweds\n",
      "Data columns (total 11 columns):\n",
      "release_datel_suffix    2320 non-null object\n",
      "production_budget       2320 non-null object\n",
      "domestic_gross          2320 non-null object\n",
      "worldwide_gross         2320 non-null object\n",
      "genre_ids               2320 non-null object\n",
      "original_language       2320 non-null object\n",
      "popularity              2320 non-null float64\n",
      "release_dater_suffix    2320 non-null object\n",
      "vote_average            2320 non-null float64\n",
      "vote_count              2320 non-null float64\n",
      "genre                   2320 non-null object\n",
      "dtypes: float64(3), object(8)\n",
      "memory usage: 217.5+ KB\n"
     ]
    }
   ],
   "source": [
    "bm_df.info()"
   ]
  },
  {
   "cell_type": "markdown",
   "metadata": {},
   "source": [
    "Now our production_budget, domestic_gross and worldwide_gross columns are objects. This will not allow us to perform quantitative analysis on them. So let's convert them to integers using our function we created earlier."
   ]
  },
  {
   "cell_type": "code",
   "execution_count": 8,
   "metadata": {},
   "outputs": [],
   "source": [
    "bm_df['production_budget'] = bm_df['production_budget'].map(conv_object_to_int)\n",
    "bm_df['domestic_gross'] = bm_df['domestic_gross'].map(conv_object_to_int)\n",
    "bm_df['worldwide_gross'] = bm_df['worldwide_gross'].map(conv_object_to_int)"
   ]
  },
  {
   "cell_type": "code",
   "execution_count": 15,
   "metadata": {},
   "outputs": [
    {
     "data": {
      "text/html": [
       "<div>\n",
       "<style scoped>\n",
       "    .dataframe tbody tr th:only-of-type {\n",
       "        vertical-align: middle;\n",
       "    }\n",
       "\n",
       "    .dataframe tbody tr th {\n",
       "        vertical-align: top;\n",
       "    }\n",
       "\n",
       "    .dataframe thead th {\n",
       "        text-align: right;\n",
       "    }\n",
       "</style>\n",
       "<table border=\"1\" class=\"dataframe\">\n",
       "  <thead>\n",
       "    <tr style=\"text-align: right;\">\n",
       "      <th></th>\n",
       "      <th>title</th>\n",
       "      <th>release_datel_suffix</th>\n",
       "      <th>production_budget</th>\n",
       "      <th>domestic_gross</th>\n",
       "      <th>worldwide_gross</th>\n",
       "      <th>genre_ids</th>\n",
       "      <th>original_language</th>\n",
       "      <th>popularity</th>\n",
       "      <th>release_dater_suffix</th>\n",
       "      <th>vote_average</th>\n",
       "      <th>vote_count</th>\n",
       "      <th>genre</th>\n",
       "      <th>gross_margin_worldwide</th>\n",
       "    </tr>\n",
       "  </thead>\n",
       "  <tbody>\n",
       "    <tr>\n",
       "      <td>0</td>\n",
       "      <td>Avatar</td>\n",
       "      <td>2009-12-18</td>\n",
       "      <td>425000000</td>\n",
       "      <td>760507625</td>\n",
       "      <td>2776345279</td>\n",
       "      <td>[28, 12, 14, 878]</td>\n",
       "      <td>en</td>\n",
       "      <td>26.526</td>\n",
       "      <td>2009-12-18</td>\n",
       "      <td>7.4</td>\n",
       "      <td>18676.0</td>\n",
       "      <td>(Adventure, Fantasy, Action, Science Fiction)</td>\n",
       "      <td>2351345279</td>\n",
       "    </tr>\n",
       "    <tr>\n",
       "      <td>1</td>\n",
       "      <td>Pirates of the Caribbean: On Stranger Tides</td>\n",
       "      <td>2011-05-20</td>\n",
       "      <td>410600000</td>\n",
       "      <td>241063875</td>\n",
       "      <td>1045663875</td>\n",
       "      <td>[12, 28, 14]</td>\n",
       "      <td>en</td>\n",
       "      <td>30.579</td>\n",
       "      <td>2011-05-20</td>\n",
       "      <td>6.4</td>\n",
       "      <td>8571.0</td>\n",
       "      <td>(Adventure, Fantasy, Action)</td>\n",
       "      <td>635063875</td>\n",
       "    </tr>\n",
       "    <tr>\n",
       "      <td>2</td>\n",
       "      <td>Avengers: Age of Ultron</td>\n",
       "      <td>2015-05-01</td>\n",
       "      <td>330600000</td>\n",
       "      <td>459005868</td>\n",
       "      <td>1403013963</td>\n",
       "      <td>[28, 12, 878]</td>\n",
       "      <td>en</td>\n",
       "      <td>44.383</td>\n",
       "      <td>2015-05-01</td>\n",
       "      <td>7.3</td>\n",
       "      <td>13457.0</td>\n",
       "      <td>(Adventure, Action, Science Fiction)</td>\n",
       "      <td>1072413963</td>\n",
       "    </tr>\n",
       "    <tr>\n",
       "      <td>3</td>\n",
       "      <td>Avengers: Infinity War</td>\n",
       "      <td>2018-04-27</td>\n",
       "      <td>300000000</td>\n",
       "      <td>678815482</td>\n",
       "      <td>2048134200</td>\n",
       "      <td>[12, 28, 14]</td>\n",
       "      <td>en</td>\n",
       "      <td>80.773</td>\n",
       "      <td>2018-04-27</td>\n",
       "      <td>8.3</td>\n",
       "      <td>13948.0</td>\n",
       "      <td>(Adventure, Fantasy, Action)</td>\n",
       "      <td>1748134200</td>\n",
       "    </tr>\n",
       "    <tr>\n",
       "      <td>8</td>\n",
       "      <td>The Dark Knight Rises</td>\n",
       "      <td>2012-07-20</td>\n",
       "      <td>275000000</td>\n",
       "      <td>448139099</td>\n",
       "      <td>1084439099</td>\n",
       "      <td>[28, 80, 18, 53]</td>\n",
       "      <td>en</td>\n",
       "      <td>26.220</td>\n",
       "      <td>2012-07-20</td>\n",
       "      <td>7.7</td>\n",
       "      <td>13933.0</td>\n",
       "      <td>(Drama, Action, Thriller, Crime)</td>\n",
       "      <td>809439099</td>\n",
       "    </tr>\n",
       "    <tr>\n",
       "      <td>...</td>\n",
       "      <td>...</td>\n",
       "      <td>...</td>\n",
       "      <td>...</td>\n",
       "      <td>...</td>\n",
       "      <td>...</td>\n",
       "      <td>...</td>\n",
       "      <td>...</td>\n",
       "      <td>...</td>\n",
       "      <td>...</td>\n",
       "      <td>...</td>\n",
       "      <td>...</td>\n",
       "      <td>...</td>\n",
       "      <td>...</td>\n",
       "    </tr>\n",
       "    <tr>\n",
       "      <td>2315</td>\n",
       "      <td>Exeter</td>\n",
       "      <td>2015-03-26</td>\n",
       "      <td>25000</td>\n",
       "      <td>0</td>\n",
       "      <td>489792</td>\n",
       "      <td>[53, 27]</td>\n",
       "      <td>en</td>\n",
       "      <td>5.934</td>\n",
       "      <td>2015-03-26</td>\n",
       "      <td>4.7</td>\n",
       "      <td>121.0</td>\n",
       "      <td>(Horror, Thriller)</td>\n",
       "      <td>464792</td>\n",
       "    </tr>\n",
       "    <tr>\n",
       "      <td>2316</td>\n",
       "      <td>Ten</td>\n",
       "      <td>2014-03-28</td>\n",
       "      <td>25000</td>\n",
       "      <td>0</td>\n",
       "      <td>0</td>\n",
       "      <td>[12, 27, 9648, 53]</td>\n",
       "      <td>en</td>\n",
       "      <td>1.575</td>\n",
       "      <td>2014-03-28</td>\n",
       "      <td>5.4</td>\n",
       "      <td>5.0</td>\n",
       "      <td>(Adventure, Horror, Thriller, Mystery)</td>\n",
       "      <td>-25000</td>\n",
       "    </tr>\n",
       "    <tr>\n",
       "      <td>2317</td>\n",
       "      <td>Dry Spell</td>\n",
       "      <td>2013-02-14</td>\n",
       "      <td>22000</td>\n",
       "      <td>0</td>\n",
       "      <td>0</td>\n",
       "      <td>[35, 10749]</td>\n",
       "      <td>en</td>\n",
       "      <td>0.600</td>\n",
       "      <td>2013-02-14</td>\n",
       "      <td>6.0</td>\n",
       "      <td>1.0</td>\n",
       "      <td>(Romance, Comedy)</td>\n",
       "      <td>-22000</td>\n",
       "    </tr>\n",
       "    <tr>\n",
       "      <td>2318</td>\n",
       "      <td>All Superheroes Must Die</td>\n",
       "      <td>2013-01-04</td>\n",
       "      <td>20000</td>\n",
       "      <td>0</td>\n",
       "      <td>0</td>\n",
       "      <td>[878, 53]</td>\n",
       "      <td>en</td>\n",
       "      <td>2.078</td>\n",
       "      <td>2013-01-04</td>\n",
       "      <td>3.9</td>\n",
       "      <td>19.0</td>\n",
       "      <td>(Thriller, Science Fiction)</td>\n",
       "      <td>-20000</td>\n",
       "    </tr>\n",
       "    <tr>\n",
       "      <td>2319</td>\n",
       "      <td>Newlyweds</td>\n",
       "      <td>2011-12-26</td>\n",
       "      <td>9000</td>\n",
       "      <td>4584</td>\n",
       "      <td>4584</td>\n",
       "      <td>[35, 10749]</td>\n",
       "      <td>en</td>\n",
       "      <td>1.973</td>\n",
       "      <td>2011-12-26</td>\n",
       "      <td>5.4</td>\n",
       "      <td>7.0</td>\n",
       "      <td>(Romance, Comedy)</td>\n",
       "      <td>-4416</td>\n",
       "    </tr>\n",
       "  </tbody>\n",
       "</table>\n",
       "<p>1567 rows × 13 columns</p>\n",
       "</div>"
      ],
      "text/plain": [
       "                                            title release_datel_suffix  \\\n",
       "0                                          Avatar           2009-12-18   \n",
       "1     Pirates of the Caribbean: On Stranger Tides           2011-05-20   \n",
       "2                         Avengers: Age of Ultron           2015-05-01   \n",
       "3                          Avengers: Infinity War           2018-04-27   \n",
       "8                           The Dark Knight Rises           2012-07-20   \n",
       "...                                           ...                  ...   \n",
       "2315                                       Exeter           2015-03-26   \n",
       "2316                                          Ten           2014-03-28   \n",
       "2317                                    Dry Spell           2013-02-14   \n",
       "2318                     All Superheroes Must Die           2013-01-04   \n",
       "2319                                    Newlyweds           2011-12-26   \n",
       "\n",
       "      production_budget  domestic_gross  worldwide_gross           genre_ids  \\\n",
       "0             425000000       760507625       2776345279   [28, 12, 14, 878]   \n",
       "1             410600000       241063875       1045663875        [12, 28, 14]   \n",
       "2             330600000       459005868       1403013963       [28, 12, 878]   \n",
       "3             300000000       678815482       2048134200        [12, 28, 14]   \n",
       "8             275000000       448139099       1084439099    [28, 80, 18, 53]   \n",
       "...                 ...             ...              ...                 ...   \n",
       "2315              25000               0           489792            [53, 27]   \n",
       "2316              25000               0                0  [12, 27, 9648, 53]   \n",
       "2317              22000               0                0         [35, 10749]   \n",
       "2318              20000               0                0           [878, 53]   \n",
       "2319               9000            4584             4584         [35, 10749]   \n",
       "\n",
       "     original_language  popularity release_dater_suffix  vote_average  \\\n",
       "0                   en      26.526           2009-12-18           7.4   \n",
       "1                   en      30.579           2011-05-20           6.4   \n",
       "2                   en      44.383           2015-05-01           7.3   \n",
       "3                   en      80.773           2018-04-27           8.3   \n",
       "8                   en      26.220           2012-07-20           7.7   \n",
       "...                ...         ...                  ...           ...   \n",
       "2315                en       5.934           2015-03-26           4.7   \n",
       "2316                en       1.575           2014-03-28           5.4   \n",
       "2317                en       0.600           2013-02-14           6.0   \n",
       "2318                en       2.078           2013-01-04           3.9   \n",
       "2319                en       1.973           2011-12-26           5.4   \n",
       "\n",
       "      vote_count                                          genre  \\\n",
       "0        18676.0  (Adventure, Fantasy, Action, Science Fiction)   \n",
       "1         8571.0                   (Adventure, Fantasy, Action)   \n",
       "2        13457.0           (Adventure, Action, Science Fiction)   \n",
       "3        13948.0                   (Adventure, Fantasy, Action)   \n",
       "8        13933.0               (Drama, Action, Thriller, Crime)   \n",
       "...          ...                                            ...   \n",
       "2315       121.0                             (Horror, Thriller)   \n",
       "2316         5.0         (Adventure, Horror, Thriller, Mystery)   \n",
       "2317         1.0                              (Romance, Comedy)   \n",
       "2318        19.0                    (Thriller, Science Fiction)   \n",
       "2319         7.0                              (Romance, Comedy)   \n",
       "\n",
       "      gross_margin_worldwide  \n",
       "0                 2351345279  \n",
       "1                  635063875  \n",
       "2                 1072413963  \n",
       "3                 1748134200  \n",
       "8                  809439099  \n",
       "...                      ...  \n",
       "2315                  464792  \n",
       "2316                  -25000  \n",
       "2317                  -22000  \n",
       "2318                  -20000  \n",
       "2319                   -4416  \n",
       "\n",
       "[1567 rows x 13 columns]"
      ]
     },
     "execution_count": 15,
     "metadata": {},
     "output_type": "execute_result"
    }
   ],
   "source": []
  },
  {
   "cell_type": "markdown",
   "metadata": {},
   "source": [
    "Let's check to see if there are any duplicates in our data, and remove any duplicates in our data."
   ]
  },
  {
   "cell_type": "code",
   "execution_count": 9,
   "metadata": {},
   "outputs": [
    {
     "data": {
      "text/plain": [
       "False    2147\n",
       "True      173\n",
       "dtype: int64"
      ]
     },
     "execution_count": 9,
     "metadata": {},
     "output_type": "execute_result"
    }
   ],
   "source": [
    "bm_df.duplicated().value_counts()"
   ]
  },
  {
   "cell_type": "code",
   "execution_count": 10,
   "metadata": {},
   "outputs": [],
   "source": [
    "bm_df.reset_index(inplace=True)"
   ]
  },
  {
   "cell_type": "code",
   "execution_count": 11,
   "metadata": {},
   "outputs": [],
   "source": [
    "bm_df.drop_duplicates(subset = ['title'], keep = False, inplace = True)"
   ]
  },
  {
   "cell_type": "markdown",
   "metadata": {},
   "source": [
    "Let's add one more column. This will give us the profit margin of each movie."
   ]
  },
  {
   "cell_type": "code",
   "execution_count": 55,
   "metadata": {},
   "outputs": [],
   "source": [
    "bm_df.domestic_gross.replace(to_replace = 0, value = bm2_df['domestic_gross'].mean(), inplace = True)"
   ]
  },
  {
   "cell_type": "code",
   "execution_count": 56,
   "metadata": {},
   "outputs": [],
   "source": [
    "bm_df['profit_margin'] = (bm_df['worldwide_gross'] - bm_df['production_budget'])/bm_df['worldwide_gross']"
   ]
  },
  {
   "cell_type": "code",
   "execution_count": 13,
   "metadata": {},
   "outputs": [],
   "source": [
    "bm_df['gross_margin_worldwide'] = bm_df['worldwide_gross'] - bm_df['production_budget']"
   ]
  },
  {
   "cell_type": "code",
   "execution_count": 14,
   "metadata": {},
   "outputs": [],
   "source": [
    "bm_df['release_datel_suffix'] = pd.to_datetime(bm_df['release_dater_suffix'])"
   ]
  },
  {
   "cell_type": "markdown",
   "metadata": {},
   "source": [
    "Let's create a copy of this DataFrame so we can mess around with it a bit in our data analysis."
   ]
  },
  {
   "cell_type": "code",
   "execution_count": 16,
   "metadata": {},
   "outputs": [],
   "source": [
    "bm2_df = bm_df.copy()"
   ]
  },
  {
   "cell_type": "markdown",
   "metadata": {},
   "source": [
    "We should remove any genre with less than 10 movies so we don't have any outliers."
   ]
  },
  {
   "cell_type": "code",
   "execution_count": 34,
   "metadata": {},
   "outputs": [],
   "source": [
    "bm2_df = bm2_df.groupby('genre').filter(lambda x: len(x) > 10) # only capture genres with 10+ movies"
   ]
  },
  {
   "cell_type": "code",
   "execution_count": 41,
   "metadata": {},
   "outputs": [],
   "source": [
    "groupby_df = bm2_df.groupby(['genre']).mean().copy()"
   ]
  },
  {
   "cell_type": "code",
   "execution_count": 42,
   "metadata": {},
   "outputs": [],
   "source": [
    "groupby_df['profit_margin'] = (groupby_df['worldwide_gross'] - groupby_df['production_budget'])/groupby_df['worldwide_gross']"
   ]
  },
  {
   "cell_type": "code",
   "execution_count": 46,
   "metadata": {},
   "outputs": [
    {
     "data": {
      "text/plain": [
       "<matplotlib.axes._subplots.AxesSubplot at 0x2a02d4d5248>"
      ]
     },
     "execution_count": 46,
     "metadata": {},
     "output_type": "execute_result"
    },
    {
     "data": {
      "image/png": "[encoded data removed]",
      "text/plain": [
       "<Figure size 432x288 with 1 Axes>"
      ]
     },
     "metadata": {
      "needs_background": "light"
     },
     "output_type": "display_data"
    }
   ],
   "source": [
    "groupby_df.sort_values(by = 'profit_margin').tail(10).plot( y ='profit_margin', kind = 'barh')"
   ]
  },
  {
   "cell_type": "code",
   "execution_count": 50,
   "metadata": {},
   "outputs": [],
   "source": [
    "bm_df.worldwide_gross.replace(to_replace= 0, value = bm2_df['worldwide_gross'].mean(), inplace = True)"
   ]
  },
  {
   "cell_type": "code",
   "execution_count": 40,
   "metadata": {},
   "outputs": [
    {
     "data": {
      "text/plain": [
       "genre\n",
       "(Action, Comedy)                           12\n",
       "(Action, Comedy, Crime)                    13\n",
       "(Action, Thriller)                         24\n",
       "(Action, Thriller, Crime)                  29\n",
       "(Adventure, Action, Science Fiction)       30\n",
       "(Adventure, Fantasy, Action)               17\n",
       "(Comedy,)                                  96\n",
       "(Documentary,)                             38\n",
       "(Drama,)                                  121\n",
       "(Drama, Action)                            12\n",
       "(Drama, Action, Thriller)                  12\n",
       "(Drama, Action, Thriller, Crime)           19\n",
       "(Drama, Comedy)                            59\n",
       "(Drama, Crime)                             13\n",
       "(Drama, History)                           20\n",
       "(Drama, Horror, Thriller)                  11\n",
       "(Drama, Thriller)                          32\n",
       "(Drama, Thriller, Crime)                   28\n",
       "(Drama, Thriller, Mystery)                 11\n",
       "(Family, Adventure, Animation, Comedy)     23\n",
       "(Family, Animation, Comedy)                11\n",
       "(Family, Comedy)                           12\n",
       "(Horror,)                                  36\n",
       "(Horror, Comedy)                           14\n",
       "(Horror, Thriller)                         48\n",
       "(Horror, Thriller, Mystery)                15\n",
       "(Romance, Comedy)                          42\n",
       "(Romance, Drama)                           46\n",
       "(Romance, Drama, Comedy)                   46\n",
       "(Thriller,)                                13\n",
       "Name: genre, dtype: int64"
      ]
     },
     "execution_count": 40,
     "metadata": {},
     "output_type": "execute_result"
    }
   ],
   "source": [
    "bm2_df.groupby(['genre'])"
   ]
  },
  {
   "cell_type": "code",
   "execution_count": 81,
   "metadata": {},
   "outputs": [
    {
     "ename": "AttributeError",
     "evalue": "'float' object has no attribute 'sort_values'",
     "output_type": "error",
     "traceback": [
      "\u001b[1;31m---------------------------------------------------------------------------\u001b[0m",
      "\u001b[1;31mAttributeError\u001b[0m                            Traceback (most recent call last)",
      "\u001b[1;32m<ipython-input-81-8b2f6b4825c8>\u001b[0m in \u001b[0;36m<module>\u001b[1;34m\u001b[0m\n\u001b[1;32m----> 1\u001b[1;33m \u001b[0mbm_groupby_df\u001b[0m\u001b[1;33m[\u001b[0m\u001b[1;34m'profit_margin'\u001b[0m\u001b[1;33m]\u001b[0m\u001b[1;33m.\u001b[0m\u001b[0mmean\u001b[0m\u001b[1;33m(\u001b[0m\u001b[1;33m)\u001b[0m\u001b[1;33m.\u001b[0m\u001b[0msort_values\u001b[0m\u001b[1;33m(\u001b[0m\u001b[0mby\u001b[0m \u001b[1;33m=\u001b[0m \u001b[1;34m'profit_margin'\u001b[0m\u001b[1;33m)\u001b[0m\u001b[1;33m.\u001b[0m\u001b[0mtail\u001b[0m\u001b[1;33m(\u001b[0m\u001b[1;33m)\u001b[0m\u001b[1;33m.\u001b[0m\u001b[0mplot\u001b[0m\u001b[1;33m(\u001b[0m\u001b[0mkind\u001b[0m \u001b[1;33m=\u001b[0m \u001b[1;34m'bar'\u001b[0m\u001b[1;33m)\u001b[0m\u001b[1;33m\u001b[0m\u001b[1;33m\u001b[0m\u001b[0m\n\u001b[0m",
      "\u001b[1;31mAttributeError\u001b[0m: 'float' object has no attribute 'sort_values'"
     ]
    }
   ],
   "source": [
    "bm_groupby_df['profit_margin'].mean().sort_values(by = 'profit_margin').tail().plot(kind = 'bar')"
   ]
  },
  {
   "cell_type": "code",
   "execution_count": 82,
   "metadata": {},
   "outputs": [
    {
     "data": {
      "text/plain": [
       "<matplotlib.axes._subplots.AxesSubplot at 0x1ea5fed8f08>"
      ]
     },
     "execution_count": 82,
     "metadata": {},
     "output_type": "execute_result"
    },
    {
     "data": {
      "image/png": "[encoded data removed]",
      "text/plain": [
       "<Figure size 720x720 with 1 Axes>"
      ]
     },
     "metadata": {
      "needs_background": "light"
     },
     "output_type": "display_data"
    }
   ],
   "source": [
    "#bm_to_pivot.plot(figsize = (10,10), kind = 'barh')\n",
    "bm_df.groupby(['genre']).sum().sort_values(by = 'domestic_gross', ascending = True).tail(20).plot(kind = 'barh', figsize =(10,10))"
   ]
  },
  {
   "cell_type": "code",
   "execution_count": 21,
   "metadata": {},
   "outputs": [
    {
     "data": {
      "text/plain": [
       "<matplotlib.axes._subplots.AxesSubplot at 0x1ecc9251c48>"
      ]
     },
     "execution_count": 21,
     "metadata": {},
     "output_type": "execute_result"
    },
    {
     "data": {
      "image/png": "[encoded data removed]",
      "text/plain": [
       "<Figure size 720x720 with 1 Axes>"
      ]
     },
     "metadata": {
      "needs_background": "light"
     },
     "output_type": "display_data"
    }
   ],
   "source": [
    "bm2_df.groupby(['genre']).mean().sort_values(by ='production_budget').tail(10).plot(kind = 'barh', figsize = (10,10))"
   ]
  },
  {
   "cell_type": "code",
   "execution_count": 34,
   "metadata": {},
   "outputs": [],
   "source": [
    "df = bm2_df.groupby(['genre']).mean()"
   ]
  },
  {
   "cell_type": "code",
   "execution_count": null,
   "metadata": {},
   "outputs": [],
   "source": [
    "bm2_df.drop(['production_budget/worldwide_gross', 'production_budget - worldwide_gross'], axis = 1, inplace = True)"
   ]
  },
  {
   "cell_type": "code",
   "execution_count": null,
   "metadata": {},
   "outputs": [],
   "source": [
    "df['profit_margin'] = (df['worldwide_gross'] - df['production_budget'])/(df['worldwide_gross'])"
   ]
  },
  {
   "cell_type": "code",
   "execution_count": null,
   "metadata": {},
   "outputs": [],
   "source": [
    "df.reset_index(inplace = True)"
   ]
  },
  {
   "cell_type": "code",
   "execution_count": 84,
   "metadata": {},
   "outputs": [
    {
     "data": {
      "text/plain": [
       "<matplotlib.axes._subplots.AxesSubplot at 0x1ea60799688>"
      ]
     },
     "execution_count": 84,
     "metadata": {},
     "output_type": "execute_result"
    },
    {
     "data": {
      "image/png": "[encoded data removed]",
      "text/plain": [
       "<Figure size 432x288 with 1 Axes>"
      ]
     },
     "metadata": {
      "needs_background": "light"
     },
     "output_type": "display_data"
    }
   ],
   "source": [
    "profit_margin = bm2_df[['genre', 'profit_margin']].sort_values(by = 'profit_margin', ascending = True).tail(10)\n",
    "\n",
    "#genre\n",
    "profit_margin\n",
    "seaborn.barplot(x = profit_margin['profit_margin'], y = profit_margin['genre'])"
   ]
  },
  {
   "cell_type": "code",
   "execution_count": null,
   "metadata": {},
   "outputs": [],
   "source": [
    "bm2_df.loc[bm2_df['title'] == 'Frozen']"
   ]
  },
  {
   "cell_type": "code",
   "execution_count": null,
   "metadata": {},
   "outputs": [],
   "source": [
    "bm2_df.groupby(bm2_df['release_datel_suffix'].dt.month).mean().plot(kind = 'bar', figsize = (10,10))\n"
   ]
  },
  {
   "cell_type": "code",
   "execution_count": null,
   "metadata": {},
   "outputs": [],
   "source": [
    "bm2_df.drop(['popularity', 'vote_average', 'vote_count'], axis = 1 ,inplace = True)"
   ]
  },
  {
   "cell_type": "code",
   "execution_count": null,
   "metadata": {},
   "outputs": [],
   "source": []
  }
 ],
 "metadata": {
  "kernelspec": {
   "display_name": "Python 3",
   "language": "python",
   "name": "python3"
  },
  "language_info": {
   "codemirror_mode": {
    "name": "ipython",
    "version": 3
   },
   "file_extension": ".py",
   "mimetype": "text/x-python",
   "name": "python",
   "nbconvert_exporter": "python",
   "pygments_lexer": "ipython3",
   "version": "3.7.4"
  }
 },
 "nbformat": 4,
 "nbformat_minor": 2
}
